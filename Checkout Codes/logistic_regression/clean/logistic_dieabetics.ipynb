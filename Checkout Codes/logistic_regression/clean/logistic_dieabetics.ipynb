{
 "cells": [
  {
   "cell_type": "markdown",
   "metadata": {
    "_cell_guid": "2801ef26-039c-414b-9aa6-3109185301f2",
    "_uuid": "73c99a27ce4d7a507756d4688ef7fbb8a98dcd4f"
   },
   "source": [
    "## Diabetic Detection\n",
    "\n",
    "### Logisitc Regression\n",
    "\n",
    "The Pima Indians Diabetes Dataset involves predicting the onset of diabetes within 5 years in Pima Indians given medical details. This dataset is a small dataset which includes 8 key features & a binary target value as follows:\n",
    "\n",
    "- Number of times pregnant\n",
    "- Plasma glucose concentration a 2 hours in an oral glucose tolerance test\n",
    "- Diastolic blood pressure (mm Hg)\n",
    "- Triceps skin fold thickness (mm)\n",
    "- 2-Hour serum insulin (mu U/ml)\n",
    "- Body mass index (weight in kg/(height in m)^2)\n",
    "- Diabetes pedigree function\n",
    "- Age (years)\n",
    "- Class variable (0 or 1) \n",
    "\n",
    "A small logistic regression model will be developed in an attempt to predict whether a patient is likely (represented by 1) or not likely (represented by 0) to develop diabetes in the next 5 years."
   ]
  },
  {
   "cell_type": "code",
   "execution_count": 3,
   "metadata": {
    "_cell_guid": "eb7a4b75-d23b-4f0f-b7af-d58fe42e6b72",
    "_uuid": "e0fb21d9a3620ff1efa6724bb92b4a0a824cfcae",
    "collapsed": true
   },
   "outputs": [],
   "source": [
    "import numpy as np\n",
    "import pandas as pd\n",
    "import matplotlib.pyplot as plt\n",
    "%matplotlib inline"
   ]
  },
  {
   "cell_type": "markdown",
   "metadata": {
    "_cell_guid": "cfc2a92e-4c29-4bba-a34d-9f22d83ab7ec",
    "_uuid": "9fdc235cc6dbd06bde184caa91e6811f64835b7d"
   },
   "source": [
    "Before implementing a model to preict the likelihood of diabetes it is first useful to visualise some basic details about the dataset."
   ]
  },
  {
   "cell_type": "code",
   "execution_count": 4,
   "metadata": {
    "_cell_guid": "0fd26a1f-94c0-4064-9258-d4eb3cc67c21",
    "_uuid": "8e6edf98044f679f4d82fb769f3932723114fd91"
   },
   "outputs": [
    {
     "data": {
      "text/html": [
       "<div>\n",
       "<style scoped>\n",
       "    .dataframe tbody tr th:only-of-type {\n",
       "        vertical-align: middle;\n",
       "    }\n",
       "\n",
       "    .dataframe tbody tr th {\n",
       "        vertical-align: top;\n",
       "    }\n",
       "\n",
       "    .dataframe thead th {\n",
       "        text-align: right;\n",
       "    }\n",
       "</style>\n",
       "<table border=\"1\" class=\"dataframe\">\n",
       "  <thead>\n",
       "    <tr style=\"text-align: right;\">\n",
       "      <th></th>\n",
       "      <th>Pregnancies</th>\n",
       "      <th>Glucose</th>\n",
       "      <th>BloodPressure</th>\n",
       "      <th>SkinThickness</th>\n",
       "      <th>Insulin</th>\n",
       "      <th>BMI</th>\n",
       "      <th>DiabetesPedigreeFunction</th>\n",
       "      <th>Age</th>\n",
       "      <th>Outcome</th>\n",
       "    </tr>\n",
       "  </thead>\n",
       "  <tbody>\n",
       "    <tr>\n",
       "      <th>0</th>\n",
       "      <td>6</td>\n",
       "      <td>148</td>\n",
       "      <td>72</td>\n",
       "      <td>35</td>\n",
       "      <td>0</td>\n",
       "      <td>33.6</td>\n",
       "      <td>0.627</td>\n",
       "      <td>50</td>\n",
       "      <td>1</td>\n",
       "    </tr>\n",
       "    <tr>\n",
       "      <th>1</th>\n",
       "      <td>1</td>\n",
       "      <td>85</td>\n",
       "      <td>66</td>\n",
       "      <td>29</td>\n",
       "      <td>0</td>\n",
       "      <td>26.6</td>\n",
       "      <td>0.351</td>\n",
       "      <td>31</td>\n",
       "      <td>0</td>\n",
       "    </tr>\n",
       "    <tr>\n",
       "      <th>2</th>\n",
       "      <td>8</td>\n",
       "      <td>183</td>\n",
       "      <td>64</td>\n",
       "      <td>0</td>\n",
       "      <td>0</td>\n",
       "      <td>23.3</td>\n",
       "      <td>0.672</td>\n",
       "      <td>32</td>\n",
       "      <td>1</td>\n",
       "    </tr>\n",
       "    <tr>\n",
       "      <th>3</th>\n",
       "      <td>1</td>\n",
       "      <td>89</td>\n",
       "      <td>66</td>\n",
       "      <td>23</td>\n",
       "      <td>94</td>\n",
       "      <td>28.1</td>\n",
       "      <td>0.167</td>\n",
       "      <td>21</td>\n",
       "      <td>0</td>\n",
       "    </tr>\n",
       "    <tr>\n",
       "      <th>4</th>\n",
       "      <td>0</td>\n",
       "      <td>137</td>\n",
       "      <td>40</td>\n",
       "      <td>35</td>\n",
       "      <td>168</td>\n",
       "      <td>43.1</td>\n",
       "      <td>2.288</td>\n",
       "      <td>33</td>\n",
       "      <td>1</td>\n",
       "    </tr>\n",
       "  </tbody>\n",
       "</table>\n",
       "</div>"
      ],
      "text/plain": [
       "   Pregnancies  Glucose  BloodPressure  SkinThickness  Insulin   BMI  \\\n",
       "0            6      148             72             35        0  33.6   \n",
       "1            1       85             66             29        0  26.6   \n",
       "2            8      183             64              0        0  23.3   \n",
       "3            1       89             66             23       94  28.1   \n",
       "4            0      137             40             35      168  43.1   \n",
       "\n",
       "   DiabetesPedigreeFunction  Age  Outcome  \n",
       "0                     0.627   50        1  \n",
       "1                     0.351   31        0  \n",
       "2                     0.672   32        1  \n",
       "3                     0.167   21        0  \n",
       "4                     2.288   33        1  "
      ]
     },
     "execution_count": 4,
     "metadata": {},
     "output_type": "execute_result"
    }
   ],
   "source": [
    "data = pd.read_csv('pima_diabetes_clean.csv')\n",
    "array = data.values\n",
    "X_Orginal = array[:,0:8]\n",
    "Y_Orginal = array[:,8]\n",
    "data.head()"
   ]
  },
  {
   "cell_type": "markdown",
   "metadata": {
    "_cell_guid": "72dea55b-6bb8-4491-9073-b6572cd86ee8",
    "_uuid": "22f451d4ccecfde622e382ab011eed24c62c5d30"
   },
   "source": [
    "After an initial view of the data we can see that all features contain numeric data, however, the scale of each feature is inconsistent and we may need to apply some feature scaling to enure that out learning model can handle this data correctly. \n",
    "\n",
    "Before applying feature scaling it is often worth building a correlation matrix to see which features are highly correlated with the targe value. Viewing the correlation matrix shows that all feature columns have a positive correlation with the target value but columns 1 (Plasma glucose concentration a 2 hours in an oral glucose tolerance test) and 5 (Body mass index (weight in kg/(height in m)^2)) appear to have the highest correlation. \n",
    "\n",
    "With this in mind, we will initially build our logistic regression model using these two features only and see what results we can obtain. "
   ]
  },
  {
   "cell_type": "code",
   "execution_count": 5,
   "metadata": {
    "_cell_guid": "3c9a0005-9009-44cb-8a71-24c2efe6dbbc",
    "_uuid": "745268b423f5cb302c460ad8e16fc7eedf3cf63b",
    "collapsed": true
   },
   "outputs": [
    {
     "data": {
      "text/plain": [
       "Outcome                     1.000000\n",
       "Glucose                     0.466581\n",
       "BMI                         0.292695\n",
       "Age                         0.238356\n",
       "Pregnancies                 0.221898\n",
       "DiabetesPedigreeFunction    0.173844\n",
       "Insulin                     0.130548\n",
       "SkinThickness               0.074752\n",
       "BloodPressure               0.065068\n",
       "Name: Outcome, dtype: float64"
      ]
     },
     "execution_count": 5,
     "metadata": {},
     "output_type": "execute_result"
    }
   ],
   "source": [
    "correlations = data.corr()\n",
    "correlations['Outcome'].sort_values(ascending=False)"
   ]
  },
  {
   "cell_type": "markdown",
   "metadata": {
    "_cell_guid": "cb4ce738-980c-4f1e-a6b7-5794bf0e0bba",
    "_uuid": "6346afe14786141d27088ccd2b60ceb6a684991a"
   },
   "source": [
    "In addition to viewing the correlation matrix it can also be useful to view a scatter plot of the features that we have chosen to form the basis of the model."
   ]
  },
  {
   "cell_type": "code",
   "execution_count": 6,
   "metadata": {
    "_cell_guid": "8f053cdd-3a5f-4a2d-b9bf-cea7bca7c72f",
    "_uuid": "a0db399c11bebc9ab0f4ddba4b41fcfb50c6c87b"
   },
   "outputs": [
    {
     "data": {
      "image/png": "[encoded data removed]",
      "text/plain": [
       "<Figure size 432x288 with 1 Axes>"
      ]
     },
     "metadata": {
      "needs_background": "light"
     },
     "output_type": "display_data"
    }
   ],
   "source": [
    "def visualise(data):\n",
    "    fig, ax = plt.subplots()\n",
    "    ax.scatter(data.iloc[:,1].values, data.iloc[:,5].values)\n",
    "    ax.set_title('Highly Correlated Features')\n",
    "    ax.set_xlabel('Plasma glucose concentration')\n",
    "    ax.set_ylabel('Body mass index')\n",
    "\n",
    "visualise(data)"
   ]
  },
  {
   "cell_type": "markdown",
   "metadata": {
    "_cell_guid": "7eafb835-62a7-4f9d-860e-34ecf008305d",
    "_uuid": "467436ad979c0392c095a586986ce22466b02a3e"
   },
   "source": [
    "After viewing the scatter plot above it is immediately obvious that we have some missing values in this dataset. With some domain knowledge we can deduce that it should not be possible to have a body mass index or plasma glucose concentration of 0 and we will need to remove this dirty data before building our learning model. This can be achieved quickly by replacing the missing values with `NaN` and then removing these rows from the dataset."
   ]
  },
  {
   "cell_type": "code",
   "execution_count": 7,
   "metadata": {
    "_cell_guid": "a98334dc-bebe-4887-ac99-bf333ede8e9e",
    "_uuid": "a7a19891c6ac6269f1dabd9258eb01cbeef8dd8b",
    "collapsed": true
   },
   "outputs": [],
   "source": [
    "data[['Glucose','BMI']] = data[['Glucose','BMI']].replace(0, np.NaN)\n",
    "data.dropna(inplace=True)"
   ]
  },
  {
   "cell_type": "markdown",
   "metadata": {
    "_cell_guid": "ced349fb-08a8-4ab7-8584-096f443928b9",
    "_uuid": "876a43e25c8bd6d5c800547c9bf622596b72ea2f"
   },
   "source": [
    "Once the data has been cleaned up our scatter plot looks much more uniform."
   ]
  },
  {
   "cell_type": "code",
   "execution_count": 8,
   "metadata": {
    "_cell_guid": "0f4cc248-1a88-4e39-87b3-20f521c8e400",
    "_uuid": "aaff6ef6b72c2b3734f1e9ca0d77428710da6253",
    "collapsed": true
   },
   "outputs": [
    {
     "data": {
      "image/png": "[encoded data removed]",
      "text/plain": [
       "<Figure size 432x288 with 1 Axes>"
      ]
     },
     "metadata": {
      "needs_background": "light"
     },
     "output_type": "display_data"
    }
   ],
   "source": [
    "visualise(data)"
   ]
  },
  {
   "cell_type": "markdown",
   "metadata": {
    "_cell_guid": "c16dad88-3e8c-4c34-91a8-969e2acc971e",
    "_uuid": "b58046d736937bc20f8cf3f8f542d6e7018161ed"
   },
   "source": [
    "Since we have decided to use features 1 and 5 to build our logistic regression classifier we can extract the feature columns and target values easily as follows:"
   ]
  },
  {
   "cell_type": "code",
   "execution_count": 9,
   "metadata": {
    "_cell_guid": "227414b7-b952-40a3-8378-45da56ee5630",
    "_uuid": "050b56bdb777983ff9d8470cce96f93feafcfcf2",
    "collapsed": true
   },
   "outputs": [],
   "source": [
    "X = data[['Glucose','BMI']].values\n",
    "y = data[['Outcome']].values"
   ]
  },
  {
   "cell_type": "markdown",
   "metadata": {
    "_cell_guid": "9da7698e-ed15-4959-b9f4-e15ef085e6d4",
    "_uuid": "5eff6c77a62aef73200f7b4cde4636ad1527c98e"
   },
   "source": [
    "In addition, now that we have our feature colums isolated we can apply feature scaling. This can be achieved using the `StandardScaler` class of the `sklearn.preprocessing` package as follows:"
   ]
  },
  {
   "cell_type": "code",
   "execution_count": 10,
   "metadata": {
    "_cell_guid": "d738fc99-203a-406f-bc50-016ff9777bb6",
    "_uuid": "6d7b02597262e934581f84d92a375cb685f46c81",
    "collapsed": true
   },
   "outputs": [],
   "source": [
    "from sklearn.preprocessing import StandardScaler\n",
    "sc = StandardScaler()\n",
    "X = sc.fit_transform(X)"
   ]
  },
  {
   "cell_type": "markdown",
   "metadata": {
    "_cell_guid": "75d1dfe4-1d9b-4754-8738-b35d3ea2820a",
    "_uuid": "88c483d85c49ec956b5e6ba90e9c7782dc41d5cf"
   },
   "source": [
    "After feature scaling has been applied our dataset is now a two dimensional `numpy` array where our feature columns are transformed such that their distribution will have a mean value 0 and standard deviation of 1."
   ]
  },
  {
   "cell_type": "code",
   "execution_count": 11,
   "metadata": {
    "_cell_guid": "e21a1647-2297-4cd3-8ff3-963e8699b032",
    "_uuid": "e6115091656ce037de3e2195db960cdbdc5109ad",
    "collapsed": true
   },
   "outputs": [
    {
     "name": "stdout",
     "output_type": "stream",
     "text": [
      "Mean: (0, 0)\n",
      "Standard deviation: (1, 1)\n"
     ]
    }
   ],
   "source": [
    "mean = np.mean(X, axis=0)\n",
    "print('Mean: (%d, %d)' % (mean[0], mean[1]))\n",
    "standard_deviation = np.std(X, axis=0)\n",
    "print('Standard deviation: (%d, %d)' % (standard_deviation[0], standard_deviation[1]))"
   ]
  },
  {
   "cell_type": "markdown",
   "metadata": {
    "_cell_guid": "f671eff8-9125-4aa1-bed8-4c5d39737c20",
    "_uuid": "1479c9f2bd807bd9ba451bc4642b784f021fdc90"
   },
   "source": [
    "The first ten rows of our dataset now look like this:"
   ]
  },
  {
   "cell_type": "code",
   "execution_count": 12,
   "metadata": {
    "_cell_guid": "6dc0d6cc-649d-4669-87b7-5962c12f1a0b",
    "_uuid": "85efe4e7c405c3ebce0fe21a9460d280ba4ebef1",
    "collapsed": true
   },
   "outputs": [
    {
     "name": "stdout",
     "output_type": "stream",
     "text": [
      "[[ 0.85211873  0.16540919]\n",
      " [-1.2079944  -0.84552075]\n",
      " [ 1.99662603 -1.322102  ]\n",
      " [-1.07719357 -0.62889291]\n",
      " [ 0.49241644  1.53738552]\n",
      " [-0.19428794 -0.98993931]\n",
      " [-1.43689586 -0.21007908]\n",
      " [-0.22698815  0.41092074]\n",
      " [ 2.45442895 -0.28228836]\n",
      " [-0.39048919  0.74308343]]\n"
     ]
    }
   ],
   "source": [
    "print(X[0:10,:])"
   ]
  },
  {
   "cell_type": "code",
   "execution_count": 13,
   "metadata": {
    "_cell_guid": "75c9024a-3296-4cd5-b5d6-a04dcaff974c",
    "_uuid": "fa9608039f2172356d4b4f388a3006606415b7e3",
    "collapsed": true
   },
   "outputs": [],
   "source": [
    "from sklearn.model_selection import train_test_split\n",
    "X_train, X_test, y_train, y_test = train_test_split(X, y, test_size = 0.2, random_state = 0)"
   ]
  },
  {
   "cell_type": "code",
   "execution_count": 14,
   "metadata": {
    "_cell_guid": "71e4f898-51ac-4327-914b-db36c02580b4",
    "_uuid": "9b6f3fc3978db1ce9b23e7d0accdb3dae3c39011",
    "collapsed": true
   },
   "outputs": [],
   "source": [
    "from sklearn.linear_model import LogisticRegression\n",
    "model = LogisticRegression()\n",
    "\n",
    "model.fit(X_train, y_train.ravel())\n",
    "y_pred = model.predict(X_test)"
   ]
  },
  {
   "cell_type": "code",
   "execution_count": 15,
   "metadata": {
    "_cell_guid": "263fb1a5-df15-4150-8de1-ec1634b8dca6",
    "_uuid": "356374c26a1c7f84d51433b9eb0e35a48ba386cf",
    "collapsed": true
   },
   "outputs": [
    {
     "name": "stdout",
     "output_type": "stream",
     "text": [
      "[[92 12]\n",
      " [18 29]]\n"
     ]
    }
   ],
   "source": [
    "from sklearn.metrics import confusion_matrix\n",
    "cm = confusion_matrix(y_test, y_pred)\n",
    "print(cm)"
   ]
  },
  {
   "cell_type": "code",
   "execution_count": 16,
   "metadata": {
    "_cell_guid": "a946f56d-01b0-4da8-8360-e7bf086c33c7",
    "_uuid": "05a994dbed6d75c023455c97dcdbf0db1a68c67f",
    "collapsed": true
   },
   "outputs": [
    {
     "name": "stdout",
     "output_type": "stream",
     "text": [
      "Precision: 0.884615 Recall 0.836364\n"
     ]
    }
   ],
   "source": [
    "def precision_recall(y_test, y_pred):\n",
    "    cm = confusion_matrix(y_test, y_pred)    \n",
    "    tp = cm[0,0]\n",
    "    fp = cm[0,1]\n",
    "    fn = cm[1,0]\n",
    "    prec = tp / (tp+fp)\n",
    "    rec = tp / (tp+fn)    \n",
    "    return prec, rec\n",
    "\n",
    "precision, recall = precision_recall(y_test, y_pred)\n",
    "print('Precision: %f Recall %f' % (precision, recall))"
   ]
  },
  {
   "cell_type": "code",
   "execution_count": 17,
   "metadata": {},
   "outputs": [
    {
     "name": "stdout",
     "output_type": "stream",
     "text": [
      "Accuracy: 0.770 (0.048)\n"
     ]
    }
   ],
   "source": [
    "# Accurecy\n",
    "from sklearn import model_selection\n",
    "from sklearn.linear_model import LogisticRegression\n",
    "seed = 7\n",
    "kfold = model_selection.KFold(n_splits=10, random_state=seed)\n",
    "model = LogisticRegression()\n",
    "scoring = 'accuracy'\n",
    "results = model_selection.cross_val_score(model, X_Orginal, Y_Orginal, cv=kfold, scoring=scoring)\n",
    "print(\"Accuracy: %.3f (%.3f)\" % (results.mean(), results.std()))"
   ]
  },
  {
   "cell_type": "code",
   "execution_count": 18,
   "metadata": {},
   "outputs": [
    {
     "name": "stdout",
     "output_type": "stream",
     "text": [
      "AUC: 0.824 (0.041)\n"
     ]
    }
   ],
   "source": [
    "# Aera Under AUC\n",
    "\n",
    "scoring = 'roc_auc'\n",
    "results = model_selection.cross_val_score(model, X_Orginal, Y_Orginal, cv=kfold, scoring=scoring)\n",
    "print(\"AUC: %.3f (%.3f)\" % (results.mean(), results.std()))"
   ]
  },
  {
   "cell_type": "code",
   "execution_count": 19,
   "metadata": {},
   "outputs": [
    {
     "name": "stdout",
     "output_type": "stream",
     "text": [
      "             precision    recall  f1-score   support\n",
      "\n",
      "          0       0.84      0.88      0.86       104\n",
      "          1       0.71      0.62      0.66        47\n",
      "\n",
      "avg / total       0.80      0.80      0.80       151\n",
      "\n"
     ]
    },
    {
     "name": "stderr",
     "output_type": "stream",
     "text": [
      "/anaconda3/lib/python3.7/site-packages/sklearn/utils/validation.py:578: DataConversionWarning: A column-vector y was passed when a 1d array was expected. Please change the shape of y to (n_samples, ), for example using ravel().\n",
      "  y = column_or_1d(y, warn=True)\n"
     ]
    }
   ],
   "source": [
    "# Classification Report\n",
    "\n",
    "from sklearn.metrics import classification_report\n",
    "\n",
    "model.fit(X_train, y_train)\n",
    "predicted = model.predict(X_test)\n",
    "report = classification_report(y_test, predicted)\n",
    "print(report)"
   ]
  },
  {
   "cell_type": "code",
   "execution_count": null,
   "metadata": {},
   "outputs": [],
   "source": []
  },
  {
   "cell_type": "code",
   "execution_count": null,
   "metadata": {},
   "outputs": [],
   "source": []
  },
  {
   "cell_type": "code",
   "execution_count": null,
   "metadata": {},
   "outputs": [],
   "source": []
  },
  {
   "cell_type": "code",
   "execution_count": null,
   "metadata": {},
   "outputs": [],
   "source": []
  }
 ],
 "metadata": {
  "kernelspec": {
   "display_name": "Python 3",
   "language": "python",
   "name": "python3"
  },
  "language_info": {
   "codemirror_mode": {
    "name": "ipython",
    "version": 3
   },
   "file_extension": ".py",
   "mimetype": "text/x-python",
   "name": "python",
   "nbconvert_exporter": "python",
   "pygments_lexer": "ipython3",
   "version": "3.7.0"
  }
 },
 "nbformat": 4,
 "nbformat_minor": 2
}
