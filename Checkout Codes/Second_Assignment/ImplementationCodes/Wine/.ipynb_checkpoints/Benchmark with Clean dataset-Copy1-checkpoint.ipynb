{
 "cells": [
  {
   "cell_type": "code",
   "execution_count": 1,
   "metadata": {},
   "outputs": [],
   "source": [
    "#This is a kernel for setting benchmarks on Wine Quality Dataset. This dataset will proceed in the following way -\n",
    "#Pre-Process data using - Missing values imputation, Duplicates removal\n",
    "#Feature Selection using PCA\n",
    "#Setting Model Benchmarks by Cross Validation & Hyperparametrization when required\n",
    "import pandas as pd\n",
    "import numpy as np\n",
    "import sklearn\n",
    "import seaborn as sns\n",
    "import matplotlib.pyplot as plt"
   ]
  },
  {
   "cell_type": "code",
   "execution_count": 2,
   "metadata": {},
   "outputs": [
    {
     "data": {
      "text/html": [
       "<div>\n",
       "<style scoped>\n",
       "    .dataframe tbody tr th:only-of-type {\n",
       "        vertical-align: middle;\n",
       "    }\n",
       "\n",
       "    .dataframe tbody tr th {\n",
       "        vertical-align: top;\n",
       "    }\n",
       "\n",
       "    .dataframe thead th {\n",
       "        text-align: right;\n",
       "    }\n",
       "</style>\n",
       "<table border=\"1\" class=\"dataframe\">\n",
       "  <thead>\n",
       "    <tr style=\"text-align: right;\">\n",
       "      <th></th>\n",
       "      <th>type</th>\n",
       "      <th>fixed acidity</th>\n",
       "      <th>volatile acidity</th>\n",
       "      <th>citric acid</th>\n",
       "      <th>residual sugar</th>\n",
       "      <th>chlorides</th>\n",
       "      <th>free sulfur dioxide</th>\n",
       "      <th>total sulfur dioxide</th>\n",
       "      <th>density</th>\n",
       "      <th>pH</th>\n",
       "      <th>sulphates</th>\n",
       "      <th>alcohol</th>\n",
       "      <th>quality</th>\n",
       "    </tr>\n",
       "  </thead>\n",
       "  <tbody>\n",
       "    <tr>\n",
       "      <th>0</th>\n",
       "      <td>white</td>\n",
       "      <td>7.0</td>\n",
       "      <td>0.27</td>\n",
       "      <td>0.36</td>\n",
       "      <td>20.7</td>\n",
       "      <td>0.045</td>\n",
       "      <td>45.0</td>\n",
       "      <td>170.0</td>\n",
       "      <td>1.0010</td>\n",
       "      <td>3.00</td>\n",
       "      <td>0.45</td>\n",
       "      <td>8.8</td>\n",
       "      <td>6</td>\n",
       "    </tr>\n",
       "    <tr>\n",
       "      <th>1</th>\n",
       "      <td>white</td>\n",
       "      <td>6.3</td>\n",
       "      <td>0.30</td>\n",
       "      <td>0.34</td>\n",
       "      <td>1.6</td>\n",
       "      <td>0.049</td>\n",
       "      <td>14.0</td>\n",
       "      <td>132.0</td>\n",
       "      <td>0.9940</td>\n",
       "      <td>3.30</td>\n",
       "      <td>0.49</td>\n",
       "      <td>9.5</td>\n",
       "      <td>6</td>\n",
       "    </tr>\n",
       "    <tr>\n",
       "      <th>2</th>\n",
       "      <td>white</td>\n",
       "      <td>8.1</td>\n",
       "      <td>0.28</td>\n",
       "      <td>0.40</td>\n",
       "      <td>6.9</td>\n",
       "      <td>0.050</td>\n",
       "      <td>30.0</td>\n",
       "      <td>97.0</td>\n",
       "      <td>0.9951</td>\n",
       "      <td>3.26</td>\n",
       "      <td>0.44</td>\n",
       "      <td>10.1</td>\n",
       "      <td>6</td>\n",
       "    </tr>\n",
       "    <tr>\n",
       "      <th>3</th>\n",
       "      <td>white</td>\n",
       "      <td>7.2</td>\n",
       "      <td>0.23</td>\n",
       "      <td>0.32</td>\n",
       "      <td>8.5</td>\n",
       "      <td>0.058</td>\n",
       "      <td>47.0</td>\n",
       "      <td>186.0</td>\n",
       "      <td>0.9956</td>\n",
       "      <td>3.19</td>\n",
       "      <td>0.40</td>\n",
       "      <td>9.9</td>\n",
       "      <td>6</td>\n",
       "    </tr>\n",
       "    <tr>\n",
       "      <th>4</th>\n",
       "      <td>white</td>\n",
       "      <td>7.2</td>\n",
       "      <td>0.23</td>\n",
       "      <td>0.32</td>\n",
       "      <td>8.5</td>\n",
       "      <td>0.058</td>\n",
       "      <td>47.0</td>\n",
       "      <td>186.0</td>\n",
       "      <td>0.9956</td>\n",
       "      <td>3.19</td>\n",
       "      <td>0.40</td>\n",
       "      <td>9.9</td>\n",
       "      <td>6</td>\n",
       "    </tr>\n",
       "  </tbody>\n",
       "</table>\n",
       "</div>"
      ],
      "text/plain": [
       "    type  fixed acidity  volatile acidity  citric acid  residual sugar  \\\n",
       "0  white            7.0              0.27         0.36            20.7   \n",
       "1  white            6.3              0.30         0.34             1.6   \n",
       "2  white            8.1              0.28         0.40             6.9   \n",
       "3  white            7.2              0.23         0.32             8.5   \n",
       "4  white            7.2              0.23         0.32             8.5   \n",
       "\n",
       "   chlorides  free sulfur dioxide  total sulfur dioxide  density    pH  \\\n",
       "0      0.045                 45.0                 170.0   1.0010  3.00   \n",
       "1      0.049                 14.0                 132.0   0.9940  3.30   \n",
       "2      0.050                 30.0                  97.0   0.9951  3.26   \n",
       "3      0.058                 47.0                 186.0   0.9956  3.19   \n",
       "4      0.058                 47.0                 186.0   0.9956  3.19   \n",
       "\n",
       "   sulphates  alcohol  quality  \n",
       "0       0.45      8.8        6  \n",
       "1       0.49      9.5        6  \n",
       "2       0.44     10.1        6  \n",
       "3       0.40      9.9        6  \n",
       "4       0.40      9.9        6  "
      ]
     },
     "execution_count": 2,
     "metadata": {},
     "output_type": "execute_result"
    }
   ],
   "source": [
    "data_original = pd.read_csv('../../NumericData/winequality.csv')\n",
    "data_original.head()"
   ]
  },
  {
   "cell_type": "code",
   "execution_count": 3,
   "metadata": {},
   "outputs": [
    {
     "data": {
      "text/html": [
       "<div>\n",
       "<style scoped>\n",
       "    .dataframe tbody tr th:only-of-type {\n",
       "        vertical-align: middle;\n",
       "    }\n",
       "\n",
       "    .dataframe tbody tr th {\n",
       "        vertical-align: top;\n",
       "    }\n",
       "\n",
       "    .dataframe thead th {\n",
       "        text-align: right;\n",
       "    }\n",
       "</style>\n",
       "<table border=\"1\" class=\"dataframe\">\n",
       "  <thead>\n",
       "    <tr style=\"text-align: right;\">\n",
       "      <th></th>\n",
       "      <th>type</th>\n",
       "      <th>fixed acidity</th>\n",
       "      <th>volatile acidity</th>\n",
       "      <th>citric acid</th>\n",
       "      <th>residual sugar</th>\n",
       "      <th>chlorides</th>\n",
       "      <th>free sulfur dioxide</th>\n",
       "      <th>total sulfur dioxide</th>\n",
       "      <th>density</th>\n",
       "      <th>pH</th>\n",
       "      <th>sulphates</th>\n",
       "      <th>alcohol</th>\n",
       "      <th>quality</th>\n",
       "    </tr>\n",
       "  </thead>\n",
       "  <tbody>\n",
       "    <tr>\n",
       "      <th>0</th>\n",
       "      <td>red</td>\n",
       "      <td>15.56</td>\n",
       "      <td>0.27</td>\n",
       "      <td>1.43</td>\n",
       "      <td>20.70</td>\n",
       "      <td>0.190</td>\n",
       "      <td>45.00</td>\n",
       "      <td>205.42</td>\n",
       "      <td>1.0400</td>\n",
       "      <td>3.00</td>\n",
       "      <td>1.78</td>\n",
       "      <td>9.24</td>\n",
       "      <td>6</td>\n",
       "    </tr>\n",
       "    <tr>\n",
       "      <th>1</th>\n",
       "      <td>red</td>\n",
       "      <td>13.56</td>\n",
       "      <td>0.42</td>\n",
       "      <td>0.79</td>\n",
       "      <td>20.81</td>\n",
       "      <td>0.049</td>\n",
       "      <td>14.00</td>\n",
       "      <td>132.00</td>\n",
       "      <td>0.9900</td>\n",
       "      <td>3.30</td>\n",
       "      <td>0.68</td>\n",
       "      <td>13.75</td>\n",
       "      <td>6</td>\n",
       "    </tr>\n",
       "    <tr>\n",
       "      <th>2</th>\n",
       "      <td>red</td>\n",
       "      <td>8.10</td>\n",
       "      <td>0.28</td>\n",
       "      <td>1.41</td>\n",
       "      <td>6.90</td>\n",
       "      <td>0.150</td>\n",
       "      <td>77.37</td>\n",
       "      <td>268.52</td>\n",
       "      <td>1.0200</td>\n",
       "      <td>3.10</td>\n",
       "      <td>1.25</td>\n",
       "      <td>12.68</td>\n",
       "      <td>6</td>\n",
       "    </tr>\n",
       "    <tr>\n",
       "      <th>3</th>\n",
       "      <td>white</td>\n",
       "      <td>12.90</td>\n",
       "      <td>0.32</td>\n",
       "      <td>0.32</td>\n",
       "      <td>22.88</td>\n",
       "      <td>0.058</td>\n",
       "      <td>47.00</td>\n",
       "      <td>395.79</td>\n",
       "      <td>0.9956</td>\n",
       "      <td>3.19</td>\n",
       "      <td>1.55</td>\n",
       "      <td>9.90</td>\n",
       "      <td>6</td>\n",
       "    </tr>\n",
       "    <tr>\n",
       "      <th>4</th>\n",
       "      <td>red</td>\n",
       "      <td>10.19</td>\n",
       "      <td>0.92</td>\n",
       "      <td>1.38</td>\n",
       "      <td>49.49</td>\n",
       "      <td>0.060</td>\n",
       "      <td>20.39</td>\n",
       "      <td>60.12</td>\n",
       "      <td>1.0300</td>\n",
       "      <td>3.19</td>\n",
       "      <td>0.63</td>\n",
       "      <td>14.21</td>\n",
       "      <td>6</td>\n",
       "    </tr>\n",
       "  </tbody>\n",
       "</table>\n",
       "</div>"
      ],
      "text/plain": [
       "    type  fixed acidity  volatile acidity  citric acid  residual sugar  \\\n",
       "0    red          15.56              0.27         1.43           20.70   \n",
       "1    red          13.56              0.42         0.79           20.81   \n",
       "2    red           8.10              0.28         1.41            6.90   \n",
       "3  white          12.90              0.32         0.32           22.88   \n",
       "4    red          10.19              0.92         1.38           49.49   \n",
       "\n",
       "   chlorides  free sulfur dioxide  total sulfur dioxide  density    pH  \\\n",
       "0      0.190                45.00                205.42   1.0400  3.00   \n",
       "1      0.049                14.00                132.00   0.9900  3.30   \n",
       "2      0.150                77.37                268.52   1.0200  3.10   \n",
       "3      0.058                47.00                395.79   0.9956  3.19   \n",
       "4      0.060                20.39                 60.12   1.0300  3.19   \n",
       "\n",
       "   sulphates  alcohol  quality  \n",
       "0       1.78     9.24        6  \n",
       "1       0.68    13.75        6  \n",
       "2       1.25    12.68        6  \n",
       "3       1.55     9.90        6  \n",
       "4       0.63    14.21        6  "
      ]
     },
     "execution_count": 3,
     "metadata": {},
     "output_type": "execute_result"
    }
   ],
   "source": [
    "data_noise = pd.read_csv('../../NumericData/50_noisy_winequality.csv')\n",
    "data_noise.head()"
   ]
  },
  {
   "cell_type": "code",
   "execution_count": 4,
   "metadata": {},
   "outputs": [
    {
     "data": {
      "text/plain": [
       "<bound method DataFrame.corr of        type  fixed acidity  volatile acidity  citric acid  residual sugar  \\\n",
       "0       red          15.56             0.270         1.43           20.70   \n",
       "1       red          13.56             0.420         0.79           20.81   \n",
       "2       red           8.10             0.280         1.41            6.90   \n",
       "3     white          12.90             0.320         0.32           22.88   \n",
       "4       red          10.19             0.920         1.38           49.49   \n",
       "5     white           8.10             0.280         1.48           50.42   \n",
       "6       red           6.20             0.320         1.48           41.50   \n",
       "7     white           9.17             0.320         0.36           27.56   \n",
       "8       red          14.32             0.530         0.86            1.60   \n",
       "9       red          12.82             0.090         0.39           21.55   \n",
       "10    white           6.72             0.270         0.41            1.74   \n",
       "11      red           6.22             0.230         0.40           42.28   \n",
       "12    white           5.38             0.180         1.62            1.20   \n",
       "13      red          15.00             0.160         1.60           63.68   \n",
       "14    white          12.03             0.610         1.28           19.25   \n",
       "15    white          11.57             1.350         1.15           19.59   \n",
       "16      red           3.89             0.550         0.87           15.81   \n",
       "17    white           9.68             0.660         0.78            1.20   \n",
       "18      red          10.05             1.130         1.52           39.14   \n",
       "19      red          15.35             0.170         0.36           53.73   \n",
       "20    white          12.66             0.430         0.42            0.90   \n",
       "21      red          13.62             1.230         0.63            2.29   \n",
       "22    white          13.48             0.330         0.42           49.26   \n",
       "23    white           5.20             0.540         1.49           61.28   \n",
       "24      red           5.32             0.440         1.52           51.36   \n",
       "25    white           7.00             0.250         0.61           61.35   \n",
       "26      red           6.90             0.240         0.24            1.00   \n",
       "27    white          11.52             1.500         0.66           30.96   \n",
       "28    white          15.21             1.460         0.48           47.28   \n",
       "29    white           7.20             0.590         0.40           12.31   \n",
       "...     ...            ...               ...          ...             ...   \n",
       "6467    red           5.63             1.350         1.49           52.93   \n",
       "6468  white           5.66             0.820         0.56           62.84   \n",
       "6469    red           8.03             0.100         0.06            2.20   \n",
       "6470    red           7.30             1.370         1.13           37.95   \n",
       "6471  white           6.00             1.520         0.43            2.40   \n",
       "6472    red           8.82             1.070         0.38           13.90   \n",
       "6473    red          14.47             0.100         0.90           51.60   \n",
       "6474    red          11.63             0.570         0.57           37.50   \n",
       "6475    red          10.13             0.970         0.15           30.53   \n",
       "6476    red          12.47             1.500         0.34           52.87   \n",
       "6477  white           4.36             0.800         0.09            1.70   \n",
       "6478  white          11.53             0.350         1.14            2.40   \n",
       "6479    red           8.41             0.560         1.20            8.80   \n",
       "6480  white          14.71             0.210         0.37           24.52   \n",
       "6481  white           4.64             1.490         1.63           11.62   \n",
       "6482    red           6.70             1.380         0.42            2.40   \n",
       "6483  white           7.20             0.690         1.26            0.74   \n",
       "6484    red          13.80             0.950         0.41            2.40   \n",
       "6485  white          12.03             0.230         0.11           56.89   \n",
       "6486    red          15.78             1.190         0.31           14.21   \n",
       "6487  white           5.69             0.725         0.78            7.80   \n",
       "6488    red           5.58             0.560         1.39            1.80   \n",
       "6489    red           9.16             0.710         0.09           27.57   \n",
       "6490  white           6.30             0.830         0.40            2.30   \n",
       "6491    red           6.80             1.410         0.05           59.88   \n",
       "6492    red           7.01             0.600         0.18            2.00   \n",
       "6493  white           4.51             0.780         0.53           15.51   \n",
       "6494    red           6.30             0.540         0.74            2.30   \n",
       "6495  white          10.70             0.645         0.12            2.00   \n",
       "6496    red           5.99             0.310         0.25           20.73   \n",
       "\n",
       "      chlorides  free sulfur dioxide  total sulfur dioxide  density    pH  \\\n",
       "0         0.190                45.00                205.42  1.04000  3.00   \n",
       "1         0.049                14.00                132.00  0.99000  3.30   \n",
       "2         0.150                77.37                268.52  1.02000  3.10   \n",
       "3         0.058                47.00                395.79  0.99560  3.19   \n",
       "4         0.060                20.39                 60.12  1.03000  3.19   \n",
       "5         0.050                30.00                309.26  1.00000  3.26   \n",
       "6         0.330                92.53                136.00  1.01000  4.01   \n",
       "7         0.230               145.26                137.04  0.99000  2.73   \n",
       "8         0.049               178.78                337.22  1.01000  2.97   \n",
       "9         0.044               266.65                121.77  0.99000  3.10   \n",
       "10        0.370                11.00                 74.69  1.00000  3.81   \n",
       "11        0.550               263.98                432.79  1.00000  3.84   \n",
       "12        0.440               237.35                 72.34  1.03000  3.14   \n",
       "13        0.044               116.01                  7.14  0.99000  3.14   \n",
       "14        0.310                88.86                345.29  0.99000  2.98   \n",
       "15        0.060               219.81                380.95  0.99140  3.25   \n",
       "16        0.140               134.99                 99.00  1.00000  3.89   \n",
       "17        0.390               265.21                381.16  1.00000  3.61   \n",
       "18        0.033                17.00                171.00  1.01000  3.12   \n",
       "19        0.350               147.63                204.83  1.01000  3.54   \n",
       "20        0.500                93.90                 75.00  1.02000  3.05   \n",
       "21        0.040               203.61                 45.77  1.03000  3.46   \n",
       "22        0.190                41.00                 49.12  1.00000  3.12   \n",
       "23        0.074                61.91                349.10  1.02000  3.07   \n",
       "24        0.610                16.00                142.00  1.03000  3.42   \n",
       "25        0.280               173.18                239.53  1.04000  3.25   \n",
       "26        0.080               175.77                350.68  0.99300  3.49   \n",
       "27        0.051               272.31                438.84  0.99000  3.38   \n",
       "28        0.047                17.00                 56.12  1.04000  3.19   \n",
       "29        0.110                82.66                401.81  0.99000  3.87   \n",
       "...         ...                  ...                   ...      ...   ...   \n",
       "6467      0.090               146.84                 34.00  1.04000  3.48   \n",
       "6468      0.210               276.49                414.50  0.99000  3.91   \n",
       "6469      0.038               176.48                131.81  0.99514  3.28   \n",
       "6470      0.069                35.00                286.52  0.99632  3.64   \n",
       "6471      0.190                15.00                 50.00  0.99467  3.76   \n",
       "6472      0.074               107.12                 92.00  0.99677  4.00   \n",
       "6473      0.230                70.44                 20.00  1.01000  3.55   \n",
       "6474      0.360               198.36                 91.13  0.99588  3.66   \n",
       "6475      0.100                13.00                275.77  1.00000  4.00   \n",
       "6476      0.240                13.00                340.47  1.00000  3.05   \n",
       "6477      0.180               191.45                 32.00  0.99000  2.76   \n",
       "6478      0.068                11.62                 30.72  1.04000  3.36   \n",
       "6479      0.120               159.21                282.18  0.99402  3.54   \n",
       "6480      0.480               114.59                159.63  1.01000  3.57   \n",
       "6481      0.510                91.00                 88.52  0.99578  3.40   \n",
       "6482      0.370                55.72                 77.86  1.03000  3.29   \n",
       "6483      0.066                22.00                125.97  1.01000  3.28   \n",
       "6484      0.180                34.00                 60.00  1.01000  3.79   \n",
       "6485      0.066                38.80                182.72  1.01000  2.86   \n",
       "6486      0.540                 5.88                 51.20  1.01000  3.27   \n",
       "6487      0.110               265.43                 79.00  0.99000  3.05   \n",
       "6488      0.190               183.03                303.72  0.99314  3.92   \n",
       "6489      0.180               145.91                104.70  1.01000  3.05   \n",
       "6490      0.580               277.25                309.39  1.04000  3.94   \n",
       "6491      0.180               288.10                403.46  1.01000  3.92   \n",
       "6492      0.050               228.68                250.74  1.01000  3.45   \n",
       "6493      0.580               215.07                359.27  1.00000  3.52   \n",
       "6494      0.160                76.50                 22.82  1.04000  2.98   \n",
       "6495      0.570                34.58                303.70  1.03000  3.57   \n",
       "6496      0.067                36.77                326.60  0.99549  3.59   \n",
       "\n",
       "      sulphates  alcohol  quality  \n",
       "0          1.78     9.24        6  \n",
       "1          0.68    13.75        6  \n",
       "2          1.25    12.68        6  \n",
       "3          1.55     9.90        6  \n",
       "4          0.63    14.21        6  \n",
       "5          0.26    11.08        6  \n",
       "6          0.42     9.03        6  \n",
       "7          0.45    14.86        6  \n",
       "8          0.58     9.12        6  \n",
       "9          0.34    11.00        6  \n",
       "10         1.35    12.96        5  \n",
       "11         0.53    13.83        5  \n",
       "12         1.39    11.35        5  \n",
       "13         0.40    13.70        7  \n",
       "14         1.45     9.70        5  \n",
       "15         0.87    11.40        7  \n",
       "16         0.99    10.67        6  \n",
       "17         1.00    13.18        8  \n",
       "18         1.14    10.62        6  \n",
       "19         0.50     9.50        5  \n",
       "20         1.66    14.16        8  \n",
       "21         0.97    13.13        7  \n",
       "22         0.43    10.50        8  \n",
       "23         0.24    10.33        5  \n",
       "24         1.58    11.70        6  \n",
       "25         1.92     8.12        6  \n",
       "26         1.62    12.56        6  \n",
       "27         1.96    13.20        6  \n",
       "28         1.02    13.99        6  \n",
       "29         1.78     9.95        7  \n",
       "...         ...      ...      ...  \n",
       "6467       0.62    11.50        6  \n",
       "6468       0.93    11.06        6  \n",
       "6469       0.65    13.94        6  \n",
       "6470       0.33     9.50        5  \n",
       "6471       0.56    11.13        6  \n",
       "6472       1.24    10.85        6  \n",
       "6473       0.64    11.80        6  \n",
       "6474       0.85    13.53        6  \n",
       "6475       0.54    11.90        6  \n",
       "6476       0.26    12.85        6  \n",
       "6477       0.60    14.64        5  \n",
       "6478       0.60    11.90        6  \n",
       "6479       1.90    10.39        5  \n",
       "6480       1.82    11.90        5  \n",
       "6481       0.62    14.80        5  \n",
       "6482       0.80    11.60        7  \n",
       "6483       0.24     8.90        6  \n",
       "6484       0.85    14.82        6  \n",
       "6485       1.73    10.90        6  \n",
       "6486       1.05    10.98        6  \n",
       "6487       0.36    14.84        5  \n",
       "6488       0.82    11.60        6  \n",
       "6489       0.71    11.60        6  \n",
       "6490       1.38    11.00        6  \n",
       "6491       0.25    11.27        6  \n",
       "6492       1.46    11.09        5  \n",
       "6493       0.82    14.47        6  \n",
       "6494       0.43    14.00        6  \n",
       "6495       0.96    13.45        5  \n",
       "6496       1.65    14.68        6  \n",
       "\n",
       "[6497 rows x 13 columns]>"
      ]
     },
     "execution_count": 4,
     "metadata": {},
     "output_type": "execute_result"
    }
   ],
   "source": [
    "data_noise.corr"
   ]
  },
  {
   "cell_type": "code",
   "execution_count": 5,
   "metadata": {},
   "outputs": [
    {
     "data": {
      "text/plain": [
       "Index(['type', 'fixed acidity', 'volatile acidity', 'citric acid',\n",
       "       'residual sugar', 'chlorides', 'free sulfur dioxide',\n",
       "       'total sulfur dioxide', 'density', 'pH', 'sulphates', 'alcohol',\n",
       "       'quality'],\n",
       "      dtype='object')"
      ]
     },
     "execution_count": 5,
     "metadata": {},
     "output_type": "execute_result"
    }
   ],
   "source": [
    "data_noise.columns"
   ]
  },
  {
   "cell_type": "code",
   "execution_count": 6,
   "metadata": {},
   "outputs": [
    {
     "name": "stdout",
     "output_type": "stream",
     "text": [
      "<class 'pandas.core.frame.DataFrame'>\n",
      "RangeIndex: 6497 entries, 0 to 6496\n",
      "Data columns (total 13 columns):\n",
      "type                    6497 non-null object\n",
      "fixed acidity           6495 non-null float64\n",
      "volatile acidity        6497 non-null float64\n",
      "citric acid             6497 non-null float64\n",
      "residual sugar          6497 non-null float64\n",
      "chlorides               6497 non-null float64\n",
      "free sulfur dioxide     6497 non-null float64\n",
      "total sulfur dioxide    6497 non-null float64\n",
      "density                 6497 non-null float64\n",
      "pH                      6497 non-null float64\n",
      "sulphates               6496 non-null float64\n",
      "alcohol                 6497 non-null float64\n",
      "quality                 6497 non-null int64\n",
      "dtypes: float64(11), int64(1), object(1)\n",
      "memory usage: 659.9+ KB\n"
     ]
    }
   ],
   "source": [
    "data_noise.info()"
   ]
  },
  {
   "cell_type": "code",
   "execution_count": 7,
   "metadata": {},
   "outputs": [
    {
     "data": {
      "text/plain": [
       "array([6, 5, 7, 8, 4, 3, 9], dtype=int64)"
      ]
     },
     "execution_count": 7,
     "metadata": {},
     "output_type": "execute_result"
    }
   ],
   "source": [
    "data_noise['quality'].unique()"
   ]
  },
  {
   "cell_type": "code",
   "execution_count": 8,
   "metadata": {},
   "outputs": [
    {
     "data": {
      "text/plain": [
       "Counter({6: 2836, 5: 2138, 7: 1079, 8: 193, 4: 216, 3: 30, 9: 5})"
      ]
     },
     "execution_count": 8,
     "metadata": {},
     "output_type": "execute_result"
    }
   ],
   "source": [
    "#count of each target variable\n",
    "from collections import Counter\n",
    "Counter(data_noise['quality'])"
   ]
  },
  {
   "cell_type": "code",
   "execution_count": 9,
   "metadata": {},
   "outputs": [],
   "source": [
    "#next we shall create a new column called Review. This column will contain the values of 1,2, and 3. \n",
    "#1 - Bad\n",
    "#2 - Average\n",
    "#3 - Excellent\n",
    "#This will be split in the following way. \n",
    "#1,2,3 --> Bad\n",
    "#4,5,6,7 --> Average\n",
    "#8,9,10 --> Excellent\n",
    "#Create an empty list called Reviews\n",
    "reviews = []\n",
    "for i in data_noise['quality']:\n",
    "    if i >= 1 and i <= 3:\n",
    "        reviews.append('1')\n",
    "    elif i >= 4 and i <= 7:\n",
    "        reviews.append('2')\n",
    "    elif i >= 8 and i <= 10:\n",
    "        reviews.append('3')\n",
    "data_noise['Reviews'] = reviews"
   ]
  },
  {
   "cell_type": "code",
   "execution_count": 10,
   "metadata": {},
   "outputs": [],
   "source": [
    "#next we shall create a new column called Review. This column will contain the values of 1,2, and 3. \n",
    "#1 - Bad\n",
    "#2 - Average\n",
    "#3 - Excellent\n",
    "#This will be split in the following way. \n",
    "#1,2,3 --> Bad\n",
    "#4,5,6,7 --> Average\n",
    "#8,9,10 --> Excellent\n",
    "#Create an empty list called Reviews\n",
    "reviews = []\n",
    "for i in data_original['quality']:\n",
    "    if i >= 1 and i <= 3:\n",
    "        reviews.append('1')\n",
    "    elif i >= 4 and i <= 7:\n",
    "        reviews.append('2')\n",
    "    elif i >= 8 and i <= 10:\n",
    "        reviews.append('3')\n",
    "data_original['Reviews'] = reviews"
   ]
  },
  {
   "cell_type": "code",
   "execution_count": 11,
   "metadata": {},
   "outputs": [
    {
     "data": {
      "text/plain": [
       "(6497, 14)"
      ]
     },
     "execution_count": 11,
     "metadata": {},
     "output_type": "execute_result"
    }
   ],
   "source": [
    "#chkpoint\n",
    "data_original.shape"
   ]
  },
  {
   "cell_type": "code",
   "execution_count": 12,
   "metadata": {},
   "outputs": [
    {
     "data": {
      "text/plain": [
       "Index(['type', 'fixed acidity', 'volatile acidity', 'citric acid',\n",
       "       'residual sugar', 'chlorides', 'free sulfur dioxide',\n",
       "       'total sulfur dioxide', 'density', 'pH', 'sulphates', 'alcohol',\n",
       "       'quality', 'Reviews'],\n",
       "      dtype='object')"
      ]
     },
     "execution_count": 12,
     "metadata": {},
     "output_type": "execute_result"
    }
   ],
   "source": [
    "#view final data\n",
    "data_noise.columns"
   ]
  },
  {
   "cell_type": "code",
   "execution_count": 13,
   "metadata": {},
   "outputs": [
    {
     "data": {
      "text/plain": [
       "array(['2', '3', '1'], dtype=object)"
      ]
     },
     "execution_count": 13,
     "metadata": {},
     "output_type": "execute_result"
    }
   ],
   "source": [
    "data_noise['Reviews'].unique()"
   ]
  },
  {
   "cell_type": "code",
   "execution_count": 14,
   "metadata": {},
   "outputs": [
    {
     "data": {
      "text/plain": [
       "Counter({'2': 6269, '3': 198, '1': 30})"
      ]
     },
     "execution_count": 14,
     "metadata": {},
     "output_type": "execute_result"
    }
   ],
   "source": [
    "Counter(data_noise['Reviews'])"
   ]
  },
  {
   "cell_type": "code",
   "execution_count": 15,
   "metadata": {},
   "outputs": [],
   "source": [
    "x_noise = data_noise.iloc[:,1:11]\n",
    "y_noise = data_noise['Reviews']"
   ]
  },
  {
   "cell_type": "code",
   "execution_count": 16,
   "metadata": {},
   "outputs": [],
   "source": [
    "x_original = data_noise.iloc[:,1:11]\n",
    "y_original = data_noise['Reviews']"
   ]
  },
  {
   "cell_type": "code",
   "execution_count": 17,
   "metadata": {},
   "outputs": [],
   "source": [
    "#Find missing values\n",
    "from sklearn.base import BaseEstimator, TransformerMixin, clone, ClassifierMixin\n",
    "data_noise.dropna(inplace=True)\n",
    "\n",
    "class DataFrameImputer(TransformerMixin):\n",
    "\n",
    "    def __init__(self):\n",
    "        \"\"\"\n",
    "        Impute missing values:\n",
    "        - Columns of dtype object are imputed with the most frequent value in column.\n",
    "        - Columns of other types are imputed with mean of column.\n",
    "        \"\"\"\n",
    "    def fit(self, X, y=None):\n",
    "\n",
    "        self.fill = pd.Series([X[c].value_counts().index[0]\n",
    "            if X[c].dtype == np.dtype('O') else X[c].mean() for c in X],\n",
    "            index=X.columns)\n",
    "\n",
    "        return self\n",
    "\n",
    "    def transform(self, X, y=None):\n",
    "        return X.fillna(self.fill)\n",
    "\n",
    "data_noise = DataFrameImputer().fit_transform(data_noise)"
   ]
  },
  {
   "cell_type": "code",
   "execution_count": 23,
   "metadata": {},
   "outputs": [
    {
     "data": {
      "text/plain": [
       "(6494, 14)"
      ]
     },
     "execution_count": 23,
     "metadata": {},
     "output_type": "execute_result"
    }
   ],
   "source": [
    "data_noise.shape"
   ]
  },
  {
   "cell_type": "code",
   "execution_count": 18,
   "metadata": {},
   "outputs": [],
   "source": [
    "#Find missing values\n",
    "from sklearn.base import BaseEstimator, TransformerMixin, clone, ClassifierMixin\n",
    "data_original.dropna(inplace=True)\n",
    "\n",
    "class DataFrameImputer(TransformerMixin):\n",
    "\n",
    "    def __init__(self):\n",
    "        \"\"\"\n",
    "        Impute missing values:\n",
    "        - Columns of dtype object are imputed with the most frequent value in column.\n",
    "        - Columns of other types are imputed with mean of column.\n",
    "        \"\"\"\n",
    "    def fit(self, X, y=None):\n",
    "\n",
    "        self.fill = pd.Series([X[c].value_counts().index[0]\n",
    "            if X[c].dtype == np.dtype('O') else X[c].mean() for c in X],\n",
    "            index=X.columns)\n",
    "\n",
    "        return self\n",
    "\n",
    "    def transform(self, X, y=None):\n",
    "        return X.fillna(self.fill)\n",
    "\n",
    "data_original = DataFrameImputer().fit_transform(data_original)"
   ]
  },
  {
   "cell_type": "code",
   "execution_count": 22,
   "metadata": {},
   "outputs": [
    {
     "data": {
      "text/plain": [
       "(6463, 14)"
      ]
     },
     "execution_count": 22,
     "metadata": {},
     "output_type": "execute_result"
    }
   ],
   "source": [
    "#Chkpt\n",
    "data_original.shape"
   ]
  },
  {
   "cell_type": "code",
   "execution_count": 19,
   "metadata": {},
   "outputs": [
    {
     "name": "stderr",
     "output_type": "stream",
     "text": [
      "C:\\Users\\souro\\Anaconda3\\lib\\site-packages\\sklearn\\ensemble\\forest.py:246: FutureWarning: The default value of n_estimators will change from 10 in version 0.20 to 100 in 0.22.\n",
      "  \"10 in version 0.20 to 100 in 0.22.\", FutureWarning)\n"
     ]
    },
    {
     "data": {
      "text/html": [
       "<div>\n",
       "<style scoped>\n",
       "    .dataframe tbody tr th:only-of-type {\n",
       "        vertical-align: middle;\n",
       "    }\n",
       "\n",
       "    .dataframe tbody tr th {\n",
       "        vertical-align: top;\n",
       "    }\n",
       "\n",
       "    .dataframe thead th {\n",
       "        text-align: right;\n",
       "    }\n",
       "</style>\n",
       "<table border=\"1\" class=\"dataframe\">\n",
       "  <thead>\n",
       "    <tr style=\"text-align: right;\">\n",
       "      <th></th>\n",
       "      <th>ETC</th>\n",
       "    </tr>\n",
       "  </thead>\n",
       "  <tbody>\n",
       "    <tr>\n",
       "      <th>chlorides</th>\n",
       "      <td>0.108405</td>\n",
       "    </tr>\n",
       "    <tr>\n",
       "      <th>volatile acidity</th>\n",
       "      <td>0.105844</td>\n",
       "    </tr>\n",
       "    <tr>\n",
       "      <th>fixed acidity</th>\n",
       "      <td>0.104050</td>\n",
       "    </tr>\n",
       "    <tr>\n",
       "      <th>residual sugar</th>\n",
       "      <td>0.103755</td>\n",
       "    </tr>\n",
       "    <tr>\n",
       "      <th>pH</th>\n",
       "      <td>0.099082</td>\n",
       "    </tr>\n",
       "    <tr>\n",
       "      <th>free sulfur dioxide</th>\n",
       "      <td>0.098404</td>\n",
       "    </tr>\n",
       "    <tr>\n",
       "      <th>citric acid</th>\n",
       "      <td>0.097799</td>\n",
       "    </tr>\n",
       "    <tr>\n",
       "      <th>sulphates</th>\n",
       "      <td>0.096870</td>\n",
       "    </tr>\n",
       "    <tr>\n",
       "      <th>total sulfur dioxide</th>\n",
       "      <td>0.095943</td>\n",
       "    </tr>\n",
       "    <tr>\n",
       "      <th>density</th>\n",
       "      <td>0.089847</td>\n",
       "    </tr>\n",
       "  </tbody>\n",
       "</table>\n",
       "</div>"
      ],
      "text/plain": [
       "                           ETC\n",
       "chlorides             0.108405\n",
       "volatile acidity      0.105844\n",
       "fixed acidity         0.104050\n",
       "residual sugar        0.103755\n",
       "pH                    0.099082\n",
       "free sulfur dioxide   0.098404\n",
       "citric acid           0.097799\n",
       "sulphates             0.096870\n",
       "total sulfur dioxide  0.095943\n",
       "density               0.089847"
      ]
     },
     "execution_count": 19,
     "metadata": {},
     "output_type": "execute_result"
    }
   ],
   "source": [
    "# importing model for feature importance\n",
    "from sklearn.ensemble import ExtraTreesClassifier\n",
    "\n",
    "# passing the model\n",
    "model_noise = ExtraTreesClassifier(random_state = 53)\n",
    "\n",
    "# feeding all our features to var 'X'\n",
    "X_noise = data_noise.iloc[:,1:11]\n",
    "# feeding our target variable to var 'y'\n",
    "y_noise = data_noise['Reviews']\n",
    "\n",
    "# training the model\n",
    "model_noise.fit(X_noise, y_noise)\n",
    "\n",
    "# extracting feature importance from model and making a dataframe of it in descending order\n",
    "ETC_feature_importances = pd.DataFrame(model_noise.feature_importances_, index = X_noise.columns, columns=['ETC']).sort_values('ETC', ascending=False)\n",
    "\n",
    "# removing traces of this model\n",
    "model_noise = None\n",
    "\n",
    "# show top 10 features\n",
    "ETC_feature_importances.head(10)"
   ]
  },
  {
   "cell_type": "code",
   "execution_count": 20,
   "metadata": {},
   "outputs": [
    {
     "name": "stderr",
     "output_type": "stream",
     "text": [
      "C:\\Users\\souro\\Anaconda3\\lib\\site-packages\\sklearn\\ensemble\\forest.py:246: FutureWarning: The default value of n_estimators will change from 10 in version 0.20 to 100 in 0.22.\n",
      "  \"10 in version 0.20 to 100 in 0.22.\", FutureWarning)\n"
     ]
    },
    {
     "data": {
      "text/html": [
       "<div>\n",
       "<style scoped>\n",
       "    .dataframe tbody tr th:only-of-type {\n",
       "        vertical-align: middle;\n",
       "    }\n",
       "\n",
       "    .dataframe tbody tr th {\n",
       "        vertical-align: top;\n",
       "    }\n",
       "\n",
       "    .dataframe thead th {\n",
       "        text-align: right;\n",
       "    }\n",
       "</style>\n",
       "<table border=\"1\" class=\"dataframe\">\n",
       "  <thead>\n",
       "    <tr style=\"text-align: right;\">\n",
       "      <th></th>\n",
       "      <th>ETC</th>\n",
       "    </tr>\n",
       "  </thead>\n",
       "  <tbody>\n",
       "    <tr>\n",
       "      <th>density</th>\n",
       "      <td>0.112072</td>\n",
       "    </tr>\n",
       "    <tr>\n",
       "      <th>volatile acidity</th>\n",
       "      <td>0.107933</td>\n",
       "    </tr>\n",
       "    <tr>\n",
       "      <th>free sulfur dioxide</th>\n",
       "      <td>0.106279</td>\n",
       "    </tr>\n",
       "    <tr>\n",
       "      <th>sulphates</th>\n",
       "      <td>0.102915</td>\n",
       "    </tr>\n",
       "    <tr>\n",
       "      <th>residual sugar</th>\n",
       "      <td>0.102288</td>\n",
       "    </tr>\n",
       "    <tr>\n",
       "      <th>chlorides</th>\n",
       "      <td>0.101530</td>\n",
       "    </tr>\n",
       "    <tr>\n",
       "      <th>fixed acidity</th>\n",
       "      <td>0.095435</td>\n",
       "    </tr>\n",
       "    <tr>\n",
       "      <th>pH</th>\n",
       "      <td>0.094691</td>\n",
       "    </tr>\n",
       "    <tr>\n",
       "      <th>citric acid</th>\n",
       "      <td>0.088685</td>\n",
       "    </tr>\n",
       "    <tr>\n",
       "      <th>total sulfur dioxide</th>\n",
       "      <td>0.088171</td>\n",
       "    </tr>\n",
       "  </tbody>\n",
       "</table>\n",
       "</div>"
      ],
      "text/plain": [
       "                           ETC\n",
       "density               0.112072\n",
       "volatile acidity      0.107933\n",
       "free sulfur dioxide   0.106279\n",
       "sulphates             0.102915\n",
       "residual sugar        0.102288\n",
       "chlorides             0.101530\n",
       "fixed acidity         0.095435\n",
       "pH                    0.094691\n",
       "citric acid           0.088685\n",
       "total sulfur dioxide  0.088171"
      ]
     },
     "execution_count": 20,
     "metadata": {},
     "output_type": "execute_result"
    }
   ],
   "source": [
    "# importing model for feature importance\n",
    "from sklearn.ensemble import ExtraTreesClassifier\n",
    "\n",
    "# passing the model\n",
    "model_original = ExtraTreesClassifier(random_state = 53)\n",
    "\n",
    "# feeding all our features to var 'X'\n",
    "X_original = data_original.iloc[:,1:11]\n",
    "# feeding our target variable to var 'y'\n",
    "y_original = data_original['Reviews']\n",
    "\n",
    "# training the model\n",
    "model_original.fit(X_original, y_original)\n",
    "\n",
    "# extracting feature importance from model and making a dataframe of it in descending order\n",
    "ETC_feature_importances = pd.DataFrame(model_original.feature_importances_, index = X_original.columns, columns=['ETC']).sort_values('ETC', ascending=False)\n",
    "\n",
    "# removing traces of this model\n",
    "model_original = None\n",
    "\n",
    "# show top 10 features\n",
    "ETC_feature_importances.head(10)"
   ]
  },
  {
   "cell_type": "code",
   "execution_count": 42,
   "metadata": {},
   "outputs": [
    {
     "data": {
      "text/plain": [
       "(6463,)"
      ]
     },
     "execution_count": 42,
     "metadata": {},
     "output_type": "execute_result"
    }
   ],
   "source": [
    "y_original.shape"
   ]
  },
  {
   "cell_type": "code",
   "execution_count": 21,
   "metadata": {},
   "outputs": [
    {
     "data": {
      "text/plain": [
       "(6463, 14)"
      ]
     },
     "execution_count": 21,
     "metadata": {},
     "output_type": "execute_result"
    }
   ],
   "source": [
    "data_original.shape"
   ]
  },
  {
   "cell_type": "code",
   "execution_count": 24,
   "metadata": {},
   "outputs": [
    {
     "data": {
      "text/plain": [
       "(6494, 14)"
      ]
     },
     "execution_count": 24,
     "metadata": {},
     "output_type": "execute_result"
    }
   ],
   "source": [
    "data_noise.shape"
   ]
  },
  {
   "cell_type": "code",
   "execution_count": null,
   "metadata": {},
   "outputs": [],
   "source": [
    "#data_noise = data_noise.iloc[0:6463,:]"
   ]
  },
  {
   "cell_type": "code",
   "execution_count": 44,
   "metadata": {},
   "outputs": [],
   "source": [
    "from sklearn.model_selection import train_test_split\n",
    "cols=data_noise.columns\n",
    "cols = list(cols.drop(['type', 'Reviews', 'quality','pH','chlorides']))\n",
    "X_train_noise, X_test_noise, y_train_noise, y_test_noise = train_test_split(data_noise.loc[0:6463, cols],data_noise.loc[0:6463, 'Reviews'], test_size=0.20, random_state=101)"
   ]
  },
  {
   "cell_type": "code",
   "execution_count": 45,
   "metadata": {},
   "outputs": [
    {
     "data": {
      "text/plain": [
       "(1293,)"
      ]
     },
     "execution_count": 45,
     "metadata": {},
     "output_type": "execute_result"
    }
   ],
   "source": [
    "y_test_noise.shape"
   ]
  },
  {
   "cell_type": "code",
   "execution_count": null,
   "metadata": {},
   "outputs": [],
   "source": []
  },
  {
   "cell_type": "code",
   "execution_count": 46,
   "metadata": {},
   "outputs": [],
   "source": [
    "from sklearn.model_selection import train_test_split\n",
    "cols=data_original.columns\n",
    "cols = list(cols.drop(['type', 'Reviews', 'quality','pH','chlorides']))\n",
    "X_train_original, X_test_original, y_train_original, y_test_original = train_test_split(data_original.loc[:, cols], y_original, test_size=0.20, random_state=101)"
   ]
  },
  {
   "cell_type": "code",
   "execution_count": 47,
   "metadata": {},
   "outputs": [
    {
     "data": {
      "text/plain": [
       "(1293,)"
      ]
     },
     "execution_count": 47,
     "metadata": {},
     "output_type": "execute_result"
    }
   ],
   "source": [
    "y_test_original.shape"
   ]
  },
  {
   "cell_type": "code",
   "execution_count": 48,
   "metadata": {},
   "outputs": [],
   "source": [
    "# Spot Check Algorithms\n",
    "\n",
    "from sklearn.linear_model import LogisticRegression\n",
    "from sklearn.tree import DecisionTreeClassifier\n",
    "from sklearn.svm import SVC\n",
    "from sklearn.ensemble import RandomForestClassifier\n",
    "models = []\n",
    "models.append(('LR', LogisticRegression()))\n",
    "models.append(('RF', RandomForestClassifier()))\n",
    "models.append(('DT', DecisionTreeClassifier()))\n",
    "models.append(('SVM_rbf', SVC()))\n",
    "#models.append(('SVM_linear', SVC(kernel='linear')))"
   ]
  },
  {
   "cell_type": "code",
   "execution_count": 50,
   "metadata": {},
   "outputs": [
    {
     "name": "stderr",
     "output_type": "stream",
     "text": [
      "C:\\Users\\souro\\Anaconda3\\lib\\site-packages\\sklearn\\linear_model\\logistic.py:433: FutureWarning: Default solver will be changed to 'lbfgs' in 0.22. Specify a solver to silence this warning.\n",
      "  FutureWarning)\n",
      "C:\\Users\\souro\\Anaconda3\\lib\\site-packages\\sklearn\\linear_model\\logistic.py:460: FutureWarning: Default multi_class will be changed to 'auto' in 0.22. Specify the multi_class option to silence this warning.\n",
      "  \"this warning.\", FutureWarning)\n",
      "C:\\Users\\souro\\Anaconda3\\lib\\site-packages\\sklearn\\linear_model\\logistic.py:433: FutureWarning: Default solver will be changed to 'lbfgs' in 0.22. Specify a solver to silence this warning.\n",
      "  FutureWarning)\n",
      "C:\\Users\\souro\\Anaconda3\\lib\\site-packages\\sklearn\\linear_model\\logistic.py:460: FutureWarning: Default multi_class will be changed to 'auto' in 0.22. Specify the multi_class option to silence this warning.\n",
      "  \"this warning.\", FutureWarning)\n",
      "C:\\Users\\souro\\Anaconda3\\lib\\site-packages\\sklearn\\linear_model\\logistic.py:433: FutureWarning: Default solver will be changed to 'lbfgs' in 0.22. Specify a solver to silence this warning.\n",
      "  FutureWarning)\n",
      "C:\\Users\\souro\\Anaconda3\\lib\\site-packages\\sklearn\\linear_model\\logistic.py:460: FutureWarning: Default multi_class will be changed to 'auto' in 0.22. Specify the multi_class option to silence this warning.\n",
      "  \"this warning.\", FutureWarning)\n",
      "C:\\Users\\souro\\Anaconda3\\lib\\site-packages\\sklearn\\linear_model\\logistic.py:433: FutureWarning: Default solver will be changed to 'lbfgs' in 0.22. Specify a solver to silence this warning.\n",
      "  FutureWarning)\n",
      "C:\\Users\\souro\\Anaconda3\\lib\\site-packages\\sklearn\\linear_model\\logistic.py:460: FutureWarning: Default multi_class will be changed to 'auto' in 0.22. Specify the multi_class option to silence this warning.\n",
      "  \"this warning.\", FutureWarning)\n",
      "C:\\Users\\souro\\Anaconda3\\lib\\site-packages\\sklearn\\linear_model\\logistic.py:433: FutureWarning: Default solver will be changed to 'lbfgs' in 0.22. Specify a solver to silence this warning.\n",
      "  FutureWarning)\n",
      "C:\\Users\\souro\\Anaconda3\\lib\\site-packages\\sklearn\\linear_model\\logistic.py:460: FutureWarning: Default multi_class will be changed to 'auto' in 0.22. Specify the multi_class option to silence this warning.\n",
      "  \"this warning.\", FutureWarning)\n",
      "C:\\Users\\souro\\Anaconda3\\lib\\site-packages\\sklearn\\linear_model\\logistic.py:433: FutureWarning: Default solver will be changed to 'lbfgs' in 0.22. Specify a solver to silence this warning.\n",
      "  FutureWarning)\n",
      "C:\\Users\\souro\\Anaconda3\\lib\\site-packages\\sklearn\\linear_model\\logistic.py:460: FutureWarning: Default multi_class will be changed to 'auto' in 0.22. Specify the multi_class option to silence this warning.\n",
      "  \"this warning.\", FutureWarning)\n",
      "C:\\Users\\souro\\Anaconda3\\lib\\site-packages\\sklearn\\linear_model\\logistic.py:433: FutureWarning: Default solver will be changed to 'lbfgs' in 0.22. Specify a solver to silence this warning.\n",
      "  FutureWarning)\n",
      "C:\\Users\\souro\\Anaconda3\\lib\\site-packages\\sklearn\\linear_model\\logistic.py:460: FutureWarning: Default multi_class will be changed to 'auto' in 0.22. Specify the multi_class option to silence this warning.\n",
      "  \"this warning.\", FutureWarning)\n",
      "C:\\Users\\souro\\Anaconda3\\lib\\site-packages\\sklearn\\linear_model\\logistic.py:433: FutureWarning: Default solver will be changed to 'lbfgs' in 0.22. Specify a solver to silence this warning.\n",
      "  FutureWarning)\n",
      "C:\\Users\\souro\\Anaconda3\\lib\\site-packages\\sklearn\\linear_model\\logistic.py:460: FutureWarning: Default multi_class will be changed to 'auto' in 0.22. Specify the multi_class option to silence this warning.\n",
      "  \"this warning.\", FutureWarning)\n",
      "C:\\Users\\souro\\Anaconda3\\lib\\site-packages\\sklearn\\linear_model\\logistic.py:433: FutureWarning: Default solver will be changed to 'lbfgs' in 0.22. Specify a solver to silence this warning.\n",
      "  FutureWarning)\n",
      "C:\\Users\\souro\\Anaconda3\\lib\\site-packages\\sklearn\\linear_model\\logistic.py:460: FutureWarning: Default multi_class will be changed to 'auto' in 0.22. Specify the multi_class option to silence this warning.\n",
      "  \"this warning.\", FutureWarning)\n",
      "C:\\Users\\souro\\Anaconda3\\lib\\site-packages\\sklearn\\linear_model\\logistic.py:433: FutureWarning: Default solver will be changed to 'lbfgs' in 0.22. Specify a solver to silence this warning.\n",
      "  FutureWarning)\n",
      "C:\\Users\\souro\\Anaconda3\\lib\\site-packages\\sklearn\\linear_model\\logistic.py:460: FutureWarning: Default multi_class will be changed to 'auto' in 0.22. Specify the multi_class option to silence this warning.\n",
      "  \"this warning.\", FutureWarning)\n",
      "C:\\Users\\souro\\Anaconda3\\lib\\site-packages\\sklearn\\linear_model\\logistic.py:433: FutureWarning: Default solver will be changed to 'lbfgs' in 0.22. Specify a solver to silence this warning.\n",
      "  FutureWarning)\n",
      "C:\\Users\\souro\\Anaconda3\\lib\\site-packages\\sklearn\\linear_model\\logistic.py:460: FutureWarning: Default multi_class will be changed to 'auto' in 0.22. Specify the multi_class option to silence this warning.\n",
      "  \"this warning.\", FutureWarning)\n"
     ]
    },
    {
     "name": "stdout",
     "output_type": "stream",
     "text": [
      "LR: 0.964785 (0.001107) 0.964424\n",
      "RF: 0.964591 (0.001187) 0.964424\n",
      "DT: 0.923765 (0.005574) 0.960557\n"
     ]
    },
    {
     "name": "stderr",
     "output_type": "stream",
     "text": [
      "C:\\Users\\souro\\Anaconda3\\lib\\site-packages\\sklearn\\svm\\base.py:196: FutureWarning: The default value of gamma will change from 'auto' to 'scale' in version 0.22 to account better for unscaled features. Set gamma explicitly to 'auto' or 'scale' to avoid this warning.\n",
      "  \"avoid this warning.\", FutureWarning)\n",
      "C:\\Users\\souro\\Anaconda3\\lib\\site-packages\\sklearn\\svm\\base.py:196: FutureWarning: The default value of gamma will change from 'auto' to 'scale' in version 0.22 to account better for unscaled features. Set gamma explicitly to 'auto' or 'scale' to avoid this warning.\n",
      "  \"avoid this warning.\", FutureWarning)\n",
      "C:\\Users\\souro\\Anaconda3\\lib\\site-packages\\sklearn\\svm\\base.py:196: FutureWarning: The default value of gamma will change from 'auto' to 'scale' in version 0.22 to account better for unscaled features. Set gamma explicitly to 'auto' or 'scale' to avoid this warning.\n",
      "  \"avoid this warning.\", FutureWarning)\n",
      "C:\\Users\\souro\\Anaconda3\\lib\\site-packages\\sklearn\\svm\\base.py:196: FutureWarning: The default value of gamma will change from 'auto' to 'scale' in version 0.22 to account better for unscaled features. Set gamma explicitly to 'auto' or 'scale' to avoid this warning.\n",
      "  \"avoid this warning.\", FutureWarning)\n",
      "C:\\Users\\souro\\Anaconda3\\lib\\site-packages\\sklearn\\svm\\base.py:196: FutureWarning: The default value of gamma will change from 'auto' to 'scale' in version 0.22 to account better for unscaled features. Set gamma explicitly to 'auto' or 'scale' to avoid this warning.\n",
      "  \"avoid this warning.\", FutureWarning)\n",
      "C:\\Users\\souro\\Anaconda3\\lib\\site-packages\\sklearn\\svm\\base.py:196: FutureWarning: The default value of gamma will change from 'auto' to 'scale' in version 0.22 to account better for unscaled features. Set gamma explicitly to 'auto' or 'scale' to avoid this warning.\n",
      "  \"avoid this warning.\", FutureWarning)\n",
      "C:\\Users\\souro\\Anaconda3\\lib\\site-packages\\sklearn\\svm\\base.py:196: FutureWarning: The default value of gamma will change from 'auto' to 'scale' in version 0.22 to account better for unscaled features. Set gamma explicitly to 'auto' or 'scale' to avoid this warning.\n",
      "  \"avoid this warning.\", FutureWarning)\n",
      "C:\\Users\\souro\\Anaconda3\\lib\\site-packages\\sklearn\\svm\\base.py:196: FutureWarning: The default value of gamma will change from 'auto' to 'scale' in version 0.22 to account better for unscaled features. Set gamma explicitly to 'auto' or 'scale' to avoid this warning.\n",
      "  \"avoid this warning.\", FutureWarning)\n",
      "C:\\Users\\souro\\Anaconda3\\lib\\site-packages\\sklearn\\svm\\base.py:196: FutureWarning: The default value of gamma will change from 'auto' to 'scale' in version 0.22 to account better for unscaled features. Set gamma explicitly to 'auto' or 'scale' to avoid this warning.\n",
      "  \"avoid this warning.\", FutureWarning)\n",
      "C:\\Users\\souro\\Anaconda3\\lib\\site-packages\\sklearn\\svm\\base.py:196: FutureWarning: The default value of gamma will change from 'auto' to 'scale' in version 0.22 to account better for unscaled features. Set gamma explicitly to 'auto' or 'scale' to avoid this warning.\n",
      "  \"avoid this warning.\", FutureWarning)\n",
      "C:\\Users\\souro\\Anaconda3\\lib\\site-packages\\sklearn\\svm\\base.py:196: FutureWarning: The default value of gamma will change from 'auto' to 'scale' in version 0.22 to account better for unscaled features. Set gamma explicitly to 'auto' or 'scale' to avoid this warning.\n",
      "  \"avoid this warning.\", FutureWarning)\n"
     ]
    },
    {
     "name": "stdout",
     "output_type": "stream",
     "text": [
      "SVM_rbf: 0.964785 (0.001107) 0.964424\n"
     ]
    }
   ],
   "source": [
    "# Evaluate each model in turn\n",
    "#import warnings\n",
    "#warnings.filterwarnings('ignore')\n",
    "from sklearn.model_selection import cross_val_score\n",
    "from sklearn.metrics import accuracy_score\n",
    "train_results = []\n",
    "test_results = []\n",
    "names = []\n",
    "for name, model in models:\n",
    "    cv_train_results = cross_val_score(model, X_train_noise, y_train_noise, \n",
    "                                       cv=10, scoring='accuracy')\n",
    "    train_results.append(cv_train_results)\n",
    "    clf = model.fit(X_train_noise, y_train_noise)\n",
    "    cv_test_results = accuracy_score(y_test_noise, clf.predict(X_test_original))\n",
    "    test_results.append(cv_test_results)\n",
    "    names.append(name)\n",
    "    result = \"%s: %f (%f) %f\" % (name, cv_train_results.mean(), cv_train_results.std(), \n",
    "                                cv_test_results)\n",
    "    print(result)"
   ]
  },
  {
   "cell_type": "code",
   "execution_count": null,
   "metadata": {},
   "outputs": [],
   "source": []
  }
 ],
 "metadata": {
  "kernelspec": {
   "display_name": "Python 3",
   "language": "python",
   "name": "python3"
  },
  "language_info": {
   "codemirror_mode": {
    "name": "ipython",
    "version": 3
   },
   "file_extension": ".py",
   "mimetype": "text/x-python",
   "name": "python",
   "nbconvert_exporter": "python",
   "pygments_lexer": "ipython3",
   "version": "3.7.0"
  }
 },
 "nbformat": 4,
 "nbformat_minor": 2
}
