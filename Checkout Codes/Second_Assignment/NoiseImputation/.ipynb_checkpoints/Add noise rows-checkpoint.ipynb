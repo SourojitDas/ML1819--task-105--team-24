{
 "cells": [
  {
   "cell_type": "code",
   "execution_count": 39,
   "metadata": {
    "scrolled": false
   },
   "outputs": [
    {
     "name": "stdout",
     "output_type": "stream",
     "text": [
      "(768, 9)\n",
      "(768, 9)\n",
      "(768, 9)\n",
      "(768, 9)\n",
      "(768, 9)\n"
     ]
    }
   ],
   "source": [
    "import random\n",
    "import pandas as pd\n",
    "import numpy as np\n",
    "import shutil\n",
    "import os\n",
    "\n",
    "\n",
    "def RandNoise(end, start, num): \n",
    "    res = []\n",
    "    \n",
    "    for j in range(num): \n",
    "        res.append(round(random.uniform(start, end),3)) \n",
    "  \n",
    "    return res \n",
    "  \n",
    "def getNoiseData(dataSet,percent):\n",
    "    #dataSet = np.delete(dataSet,(0), axis=0)\n",
    "    size = dataSet.shape\n",
    "    rows = size[0]\n",
    "    #print(rows)\n",
    "    cols = size[1]-1\n",
    "   \n",
    "    num = (int)(rows*(percent/100))\n",
    "    end = np.amax(dataSet,axis=0)\n",
    "    start = np.amin(dataSet,axis=0)\n",
    "    \n",
    "    #print(start)\n",
    "    #print(end)\n",
    "    i = 0;\n",
    "    random_val = []\n",
    "    while i<cols:\n",
    "        random_val.append(RandNoise(start[i],end[i], num))\n",
    "        #print(start[i])\n",
    "        #print(end[i])\n",
    "        i = i+1\n",
    "    return random_val\n",
    "#print(random_rows)\n",
    "\n",
    "\n",
    "def Rand(start, end, num): \n",
    "    res = [] \n",
    "  \n",
    "    for j in range(num): \n",
    "        res.append(random.randint(start, end)) \n",
    "  \n",
    "    return res\n",
    "  \n",
    "def getNoisePlaces(dataSet,percent):\n",
    "    size = dataSet.shape\n",
    "    rows = size[0]\n",
    "    num = (int)(rows*(percent/100))\n",
    "    start = 0\n",
    "    end = rows-1\n",
    "    random_rows=Rand(start, end, num)\n",
    "    return random_rows\n",
    "\n",
    "def readData():\n",
    "    #read both csv files to np array\n",
    "\n",
    "    files = os.listdir(\"../NumericData/\")\n",
    "    for key in range(0, len(files)):\n",
    "        if 'DS_Store' in files[key]:\n",
    "            continue\n",
    "        orginal_dataset = pd.read_csv(\"../NumericData/\"+files[key])\n",
    "        copy_dataset=orginal_dataset\n",
    "    \n",
    "        percent = [10,20,30,40,50]\n",
    "        for x in percent:\n",
    "            random_data = getNoiseData(copy_dataset,x)\n",
    "        \n",
    "            size = copy_dataset.shape\n",
    "            rows = size[0]\n",
    "            cols = size[1]-1\n",
    "        \n",
    "            print(size)\n",
    "            k = 0\n",
    "            while k<cols:\n",
    "                random_places = getNoisePlaces(copy_dataset,x)\n",
    "                #print(len(random_places))\n",
    "                j = 0\n",
    "                while j<len(random_places):\n",
    "                    a = random_data[k][j]\n",
    "                    row2change = random_places[j]\n",
    "                    #print(row2change)\n",
    "                    copy_dataset.iloc[row2change,k] = a\n",
    "                    \n",
    "                    #copy_dataset.itemset((j,k),a)\n",
    "                    \n",
    "                    #print(copy_dataset[j,k])\n",
    "                    #print(random_data[k][j])\n",
    "                    j = j+1\n",
    "                k = k+1\n",
    "            \n",
    "            df = pd.DataFrame(copy_dataset)\n",
    "            df.to_csv(\"../NumericData/\"+str(x)+\"_noisy_\"+files[key])\n",
    "\n",
    "\n",
    "readData()\n"
   ]
  },
  {
   "cell_type": "raw",
   "metadata": {},
   "source": []
  },
  {
   "cell_type": "code",
   "execution_count": null,
   "metadata": {},
   "outputs": [],
   "source": []
  },
  {
   "cell_type": "code",
   "execution_count": null,
   "metadata": {},
   "outputs": [],
   "source": []
  },
  {
   "cell_type": "code",
   "execution_count": null,
   "metadata": {},
   "outputs": [],
   "source": []
  },
  {
   "cell_type": "code",
   "execution_count": null,
   "metadata": {},
   "outputs": [],
   "source": []
  }
 ],
 "metadata": {
  "kernelspec": {
   "display_name": "Python 3",
   "language": "python",
   "name": "python3"
  },
  "language_info": {
   "codemirror_mode": {
    "name": "ipython",
    "version": 3
   },
   "file_extension": ".py",
   "mimetype": "text/x-python",
   "name": "python",
   "nbconvert_exporter": "python",
   "pygments_lexer": "ipython3",
   "version": "3.6.6"
  }
 },
 "nbformat": 4,
 "nbformat_minor": 2
}
