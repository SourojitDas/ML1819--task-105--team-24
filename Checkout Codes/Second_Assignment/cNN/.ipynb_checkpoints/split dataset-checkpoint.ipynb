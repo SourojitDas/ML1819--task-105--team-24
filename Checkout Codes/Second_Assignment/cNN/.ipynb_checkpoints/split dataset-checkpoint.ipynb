{
 "cells": [
  {
   "cell_type": "code",
   "execution_count": 2,
   "metadata": {},
   "outputs": [
    {
     "ename": "FileNotFoundError",
     "evalue": "[Errno 2] No such file or directory: '../catanddogs/PetImages/Cat'",
     "output_type": "error",
     "traceback": [
      "\u001b[0;31m---------------------------------------------------------------------------\u001b[0m",
      "\u001b[0;31mFileNotFoundError\u001b[0m                         Traceback (most recent call last)",
      "\u001b[0;32m<ipython-input-2-87f4963fc678>\u001b[0m in \u001b[0;36m<module>\u001b[0;34m\u001b[0m\n\u001b[1;32m      2\u001b[0m \u001b[0;32mimport\u001b[0m \u001b[0mos\u001b[0m\u001b[0;34m\u001b[0m\u001b[0m\n\u001b[1;32m      3\u001b[0m \u001b[0;34m\u001b[0m\u001b[0m\n\u001b[0;32m----> 4\u001b[0;31m \u001b[0mfiles\u001b[0m \u001b[0;34m=\u001b[0m \u001b[0mos\u001b[0m\u001b[0;34m.\u001b[0m\u001b[0mlistdir\u001b[0m\u001b[0;34m(\u001b[0m\u001b[0;34m\"../catanddogs/PetImages/Cat\"\u001b[0m\u001b[0;34m)\u001b[0m\u001b[0;34m\u001b[0m\u001b[0m\n\u001b[0m\u001b[1;32m      5\u001b[0m \u001b[0;34m\u001b[0m\u001b[0m\n\u001b[1;32m      6\u001b[0m \u001b[0mi\u001b[0m \u001b[0;34m=\u001b[0m \u001b[0;36m0\u001b[0m\u001b[0;34m\u001b[0m\u001b[0m\n",
      "\u001b[0;31mFileNotFoundError\u001b[0m: [Errno 2] No such file or directory: '../catanddogs/PetImages/Cat'"
     ]
    }
   ],
   "source": [
    "import shutil\n",
    "import os\n",
    "\n",
    "files = os.listdir(\"../catanddogs/PetImages/Cat\") \n",
    "\n",
    "i = 0\n",
    "for key in range(0, len(files)):\n",
    "    #print (files[key])\n",
    "    #word_label = files[key].split('.')[-2]\n",
    "#     print (word_label)\n",
    "    if 'DS_Store' in files[key]:\n",
    "            continue\n",
    "    if key <= (len(files)/5):\n",
    "        shutil.copy2(\"../catanddogs/PetImages/Cat/\"+files[key],\"../dataset/train/cat.\"+files[key])\n",
    "    else:\n",
    "        shutil.copy2(\"../catanddogs/PetImages/Cat/\"+files[key],\"../dataset/test/cat.\"+files[key])\n",
    "print (\"Renamed Cat Files\")\n",
    "\n",
    "files = os.listdir(\"../catanddogs/PetImages/Dog\") \n",
    "\n",
    "for key in range(0, len(files)):\n",
    "    #print (files[key])\n",
    "    if 'DS_Store' in files[key]:\n",
    "            continue\n",
    "    if key <= (len(files)/5):\n",
    "        shutil.copy2(\"../catanddogs/PetImages/Dog/\"+files[key],\"../dataset/train/dog.\"+files[key])\n",
    "    else:\n",
    "        shutil.copy2(\"../catanddogs/PetImages/Dog/\"+files[key],\"../dataset/test/dog.\"+files[key])\n",
    "print (\"Renamed Dog Files\")\n",
    " "
   ]
  },
  {
   "cell_type": "code",
   "execution_count": null,
   "metadata": {},
   "outputs": [],
   "source": []
  },
  {
   "cell_type": "code",
   "execution_count": null,
   "metadata": {},
   "outputs": [],
   "source": []
  }
 ],
 "metadata": {
  "kernelspec": {
   "display_name": "Python 3",
   "language": "python",
   "name": "python3"
  },
  "language_info": {
   "codemirror_mode": {
    "name": "ipython",
    "version": 3
   },
   "file_extension": ".py",
   "mimetype": "text/x-python",
   "name": "python",
   "nbconvert_exporter": "python",
   "pygments_lexer": "ipython3",
   "version": "3.6.6"
  }
 },
 "nbformat": 4,
 "nbformat_minor": 2
}
