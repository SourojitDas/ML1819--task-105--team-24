{
 "cells": [
  {
   "cell_type": "code",
   "execution_count": 1,
   "metadata": {},
   "outputs": [],
   "source": [
    "import pandas as pd\n",
    "import numpy as np\n",
    "import sklearn\n",
    "import seaborn as sns\n",
    "import matplotlib.pyplot as plt"
   ]
  },
  {
   "cell_type": "code",
   "execution_count": 2,
   "metadata": {},
   "outputs": [
    {
     "data": {
      "text/html": [
       "<div>\n",
       "<style scoped>\n",
       "    .dataframe tbody tr th:only-of-type {\n",
       "        vertical-align: middle;\n",
       "    }\n",
       "\n",
       "    .dataframe tbody tr th {\n",
       "        vertical-align: top;\n",
       "    }\n",
       "\n",
       "    .dataframe thead th {\n",
       "        text-align: right;\n",
       "    }\n",
       "</style>\n",
       "<table border=\"1\" class=\"dataframe\">\n",
       "  <thead>\n",
       "    <tr style=\"text-align: right;\">\n",
       "      <th></th>\n",
       "      <th>fixed acidity</th>\n",
       "      <th>volatile acidity</th>\n",
       "      <th>citric acid</th>\n",
       "      <th>residual sugar</th>\n",
       "      <th>chlorides</th>\n",
       "      <th>free sulfur dioxide</th>\n",
       "      <th>total sulfur dioxide</th>\n",
       "      <th>density</th>\n",
       "      <th>pH</th>\n",
       "      <th>sulphates</th>\n",
       "      <th>alcohol</th>\n",
       "      <th>quality</th>\n",
       "    </tr>\n",
       "  </thead>\n",
       "  <tbody>\n",
       "    <tr>\n",
       "      <th>0</th>\n",
       "      <td>7.4</td>\n",
       "      <td>0.70</td>\n",
       "      <td>0.00</td>\n",
       "      <td>1.9</td>\n",
       "      <td>0.076</td>\n",
       "      <td>11.0</td>\n",
       "      <td>34.0</td>\n",
       "      <td>0.9978</td>\n",
       "      <td>3.51</td>\n",
       "      <td>0.56</td>\n",
       "      <td>9.4</td>\n",
       "      <td>5</td>\n",
       "    </tr>\n",
       "    <tr>\n",
       "      <th>1</th>\n",
       "      <td>7.8</td>\n",
       "      <td>0.88</td>\n",
       "      <td>0.00</td>\n",
       "      <td>2.6</td>\n",
       "      <td>0.098</td>\n",
       "      <td>25.0</td>\n",
       "      <td>67.0</td>\n",
       "      <td>0.9968</td>\n",
       "      <td>3.20</td>\n",
       "      <td>0.68</td>\n",
       "      <td>9.8</td>\n",
       "      <td>5</td>\n",
       "    </tr>\n",
       "    <tr>\n",
       "      <th>2</th>\n",
       "      <td>7.8</td>\n",
       "      <td>0.76</td>\n",
       "      <td>0.04</td>\n",
       "      <td>2.3</td>\n",
       "      <td>0.092</td>\n",
       "      <td>15.0</td>\n",
       "      <td>54.0</td>\n",
       "      <td>0.9970</td>\n",
       "      <td>3.26</td>\n",
       "      <td>0.65</td>\n",
       "      <td>9.8</td>\n",
       "      <td>5</td>\n",
       "    </tr>\n",
       "    <tr>\n",
       "      <th>3</th>\n",
       "      <td>11.2</td>\n",
       "      <td>0.28</td>\n",
       "      <td>0.56</td>\n",
       "      <td>1.9</td>\n",
       "      <td>0.075</td>\n",
       "      <td>17.0</td>\n",
       "      <td>60.0</td>\n",
       "      <td>0.9980</td>\n",
       "      <td>3.16</td>\n",
       "      <td>0.58</td>\n",
       "      <td>9.8</td>\n",
       "      <td>6</td>\n",
       "    </tr>\n",
       "    <tr>\n",
       "      <th>4</th>\n",
       "      <td>7.4</td>\n",
       "      <td>0.70</td>\n",
       "      <td>0.00</td>\n",
       "      <td>1.9</td>\n",
       "      <td>0.076</td>\n",
       "      <td>11.0</td>\n",
       "      <td>34.0</td>\n",
       "      <td>0.9978</td>\n",
       "      <td>3.51</td>\n",
       "      <td>0.56</td>\n",
       "      <td>9.4</td>\n",
       "      <td>5</td>\n",
       "    </tr>\n",
       "  </tbody>\n",
       "</table>\n",
       "</div>"
      ],
      "text/plain": [
       "   fixed acidity  volatile acidity  citric acid  residual sugar  chlorides  \\\n",
       "0            7.4              0.70         0.00             1.9      0.076   \n",
       "1            7.8              0.88         0.00             2.6      0.098   \n",
       "2            7.8              0.76         0.04             2.3      0.092   \n",
       "3           11.2              0.28         0.56             1.9      0.075   \n",
       "4            7.4              0.70         0.00             1.9      0.076   \n",
       "\n",
       "   free sulfur dioxide  total sulfur dioxide  density    pH  sulphates  \\\n",
       "0                 11.0                  34.0   0.9978  3.51       0.56   \n",
       "1                 25.0                  67.0   0.9968  3.20       0.68   \n",
       "2                 15.0                  54.0   0.9970  3.26       0.65   \n",
       "3                 17.0                  60.0   0.9980  3.16       0.58   \n",
       "4                 11.0                  34.0   0.9978  3.51       0.56   \n",
       "\n",
       "   alcohol  quality  \n",
       "0      9.4        5  \n",
       "1      9.8        5  \n",
       "2      9.8        5  \n",
       "3      9.8        6  \n",
       "4      9.4        5  "
      ]
     },
     "execution_count": 2,
     "metadata": {},
     "output_type": "execute_result"
    }
   ],
   "source": [
    "data = pd.read_csv(\"../../NumericData/winequality-red.csv\")\n",
    "data.head()"
   ]
  },
  {
   "cell_type": "code",
   "execution_count": 3,
   "metadata": {},
   "outputs": [
    {
     "data": {
      "text/html": [
       "<div>\n",
       "<style scoped>\n",
       "    .dataframe tbody tr th:only-of-type {\n",
       "        vertical-align: middle;\n",
       "    }\n",
       "\n",
       "    .dataframe tbody tr th {\n",
       "        vertical-align: top;\n",
       "    }\n",
       "\n",
       "    .dataframe thead th {\n",
       "        text-align: right;\n",
       "    }\n",
       "</style>\n",
       "<table border=\"1\" class=\"dataframe\">\n",
       "  <thead>\n",
       "    <tr style=\"text-align: right;\">\n",
       "      <th></th>\n",
       "      <th>fixed acidity</th>\n",
       "      <th>volatile acidity</th>\n",
       "      <th>citric acid</th>\n",
       "      <th>residual sugar</th>\n",
       "      <th>chlorides</th>\n",
       "      <th>free sulfur dioxide</th>\n",
       "      <th>total sulfur dioxide</th>\n",
       "      <th>density</th>\n",
       "      <th>pH</th>\n",
       "      <th>sulphates</th>\n",
       "      <th>alcohol</th>\n",
       "      <th>quality</th>\n",
       "    </tr>\n",
       "  </thead>\n",
       "  <tbody>\n",
       "    <tr>\n",
       "      <th>0</th>\n",
       "      <td>7.4</td>\n",
       "      <td>0.70</td>\n",
       "      <td>0.00</td>\n",
       "      <td>1.90</td>\n",
       "      <td>0.076</td>\n",
       "      <td>11.00</td>\n",
       "      <td>34.00</td>\n",
       "      <td>0.9978</td>\n",
       "      <td>3.27</td>\n",
       "      <td>0.56</td>\n",
       "      <td>9.4</td>\n",
       "      <td>5</td>\n",
       "    </tr>\n",
       "    <tr>\n",
       "      <th>1</th>\n",
       "      <td>7.8</td>\n",
       "      <td>0.88</td>\n",
       "      <td>0.00</td>\n",
       "      <td>2.60</td>\n",
       "      <td>0.098</td>\n",
       "      <td>25.00</td>\n",
       "      <td>67.00</td>\n",
       "      <td>0.9968</td>\n",
       "      <td>3.20</td>\n",
       "      <td>0.68</td>\n",
       "      <td>9.8</td>\n",
       "      <td>5</td>\n",
       "    </tr>\n",
       "    <tr>\n",
       "      <th>2</th>\n",
       "      <td>7.8</td>\n",
       "      <td>0.76</td>\n",
       "      <td>0.04</td>\n",
       "      <td>2.30</td>\n",
       "      <td>0.092</td>\n",
       "      <td>38.42</td>\n",
       "      <td>21.75</td>\n",
       "      <td>0.9970</td>\n",
       "      <td>3.26</td>\n",
       "      <td>0.65</td>\n",
       "      <td>9.8</td>\n",
       "      <td>5</td>\n",
       "    </tr>\n",
       "    <tr>\n",
       "      <th>3</th>\n",
       "      <td>11.2</td>\n",
       "      <td>0.28</td>\n",
       "      <td>0.56</td>\n",
       "      <td>1.90</td>\n",
       "      <td>0.370</td>\n",
       "      <td>17.00</td>\n",
       "      <td>71.22</td>\n",
       "      <td>1.0000</td>\n",
       "      <td>3.16</td>\n",
       "      <td>0.82</td>\n",
       "      <td>9.8</td>\n",
       "      <td>6</td>\n",
       "    </tr>\n",
       "    <tr>\n",
       "      <th>4</th>\n",
       "      <td>7.4</td>\n",
       "      <td>0.70</td>\n",
       "      <td>0.86</td>\n",
       "      <td>6.97</td>\n",
       "      <td>0.076</td>\n",
       "      <td>11.00</td>\n",
       "      <td>26.60</td>\n",
       "      <td>0.9900</td>\n",
       "      <td>3.88</td>\n",
       "      <td>0.56</td>\n",
       "      <td>9.4</td>\n",
       "      <td>5</td>\n",
       "    </tr>\n",
       "  </tbody>\n",
       "</table>\n",
       "</div>"
      ],
      "text/plain": [
       "   fixed acidity  volatile acidity  citric acid  residual sugar  chlorides  \\\n",
       "0            7.4              0.70         0.00            1.90      0.076   \n",
       "1            7.8              0.88         0.00            2.60      0.098   \n",
       "2            7.8              0.76         0.04            2.30      0.092   \n",
       "3           11.2              0.28         0.56            1.90      0.370   \n",
       "4            7.4              0.70         0.86            6.97      0.076   \n",
       "\n",
       "   free sulfur dioxide  total sulfur dioxide  density    pH  sulphates  \\\n",
       "0                11.00                 34.00   0.9978  3.27       0.56   \n",
       "1                25.00                 67.00   0.9968  3.20       0.68   \n",
       "2                38.42                 21.75   0.9970  3.26       0.65   \n",
       "3                17.00                 71.22   1.0000  3.16       0.82   \n",
       "4                11.00                 26.60   0.9900  3.88       0.56   \n",
       "\n",
       "   alcohol  quality  \n",
       "0      9.4        5  \n",
       "1      9.8        5  \n",
       "2      9.8        5  \n",
       "3      9.8        6  \n",
       "4      9.4        5  "
      ]
     },
     "execution_count": 3,
     "metadata": {},
     "output_type": "execute_result"
    }
   ],
   "source": [
    "data_noise = pd.read_csv('../../NumericData/20_noisy_winequality-red.csv')\n",
    "data_noise.head()"
   ]
  },
  {
   "cell_type": "code",
   "execution_count": 4,
   "metadata": {},
   "outputs": [
    {
     "data": {
      "text/plain": [
       "<bound method DataFrame.corr of       fixed acidity  volatile acidity  citric acid  residual sugar  chlorides  \\\n",
       "0              7.40             0.700         0.00            1.90      0.076   \n",
       "1              7.80             0.880         0.00            2.60      0.098   \n",
       "2              7.80             0.760         0.04            2.30      0.092   \n",
       "3             11.20             0.280         0.56            1.90      0.370   \n",
       "4              7.40             0.700         0.86            6.97      0.076   \n",
       "5             15.55             0.660         0.00            1.80      0.075   \n",
       "6              5.96             0.600         0.08            1.60      0.069   \n",
       "7              7.30             0.890         0.00            1.20      0.065   \n",
       "8              7.80             0.580         0.02            2.00      0.073   \n",
       "9              7.50             0.500         0.36            6.10      0.071   \n",
       "10             6.70             0.560         0.04            1.80      0.420   \n",
       "11             8.94             0.500         0.01           14.86      0.130   \n",
       "12             5.60             0.615         0.02           14.74      0.089   \n",
       "13             7.80             0.610         0.29            1.60      0.114   \n",
       "14             8.90             0.620         0.18            5.44      0.176   \n",
       "15             8.90             0.620         0.19            0.97      0.170   \n",
       "16             8.50             0.280         0.23            1.80      0.380   \n",
       "17             9.30             0.560         0.28            1.70      0.540   \n",
       "18            13.60             1.450         0.29            4.40      0.086   \n",
       "19             7.90             0.320         0.51            1.80      0.470   \n",
       "20             8.90             0.660         0.48            2.82      0.077   \n",
       "21             7.60             0.390         0.14            2.30      0.040   \n",
       "22             7.90             0.430         0.21            1.60      0.106   \n",
       "23             8.50             0.490         0.11            2.30      0.084   \n",
       "24             6.90             0.400         0.14            2.40      0.085   \n",
       "25             6.30             0.390         0.16            1.40      0.080   \n",
       "26             7.60             1.290         0.24            1.80      0.040   \n",
       "27            10.55             0.430         0.21            1.60      0.106   \n",
       "28            13.78             1.180         0.00            1.90      0.080   \n",
       "29             7.80             1.240         0.72            2.00      0.082   \n",
       "...             ...               ...          ...             ...        ...   \n",
       "1569           6.20             0.510         0.14            1.90      0.060   \n",
       "1570           6.40             0.360         0.53            2.20      0.230   \n",
       "1571           6.40             0.380         0.14            4.64      0.160   \n",
       "1572           7.30             0.690         0.32            2.20      0.069   \n",
       "1573           6.00             0.580         0.20            2.40      0.075   \n",
       "1574           5.60             0.310         0.78           13.90      0.074   \n",
       "1575           7.46             0.910         0.40            2.20      0.060   \n",
       "1576           8.00             0.300         0.44            1.60      0.081   \n",
       "1577           6.20             1.420         0.42            5.10      0.076   \n",
       "1578           6.80             0.670         0.15            1.80      0.118   \n",
       "1579           6.20             0.560         0.09            1.70      0.053   \n",
       "1580           7.40             0.970         0.33            2.40      0.068   \n",
       "1581           6.20             0.560         0.09            1.70      0.053   \n",
       "1582           6.10             0.490         0.10            4.94      0.053   \n",
       "1583          12.38             0.460         0.15           12.23      0.190   \n",
       "1584           6.70             1.030         0.44            6.58      0.110   \n",
       "1585           7.20             0.390         0.44            6.66      0.066   \n",
       "1586           7.50             0.310         0.41            2.40      0.065   \n",
       "1587           5.80             0.610         0.11            1.80      0.066   \n",
       "1588           7.20             0.170         0.33            2.50      0.068   \n",
       "1589          13.91             0.850         0.20            3.72      0.120   \n",
       "1590          10.63             0.550         0.15            1.80      0.077   \n",
       "1591           5.40             1.300         0.09            1.70      0.089   \n",
       "1592           6.30             0.510         0.13            2.30      0.076   \n",
       "1593           6.80             0.620         0.08            9.21      0.068   \n",
       "1594           6.20             0.600         0.08            2.00      0.090   \n",
       "1595          15.61             0.180         0.51            2.20      0.062   \n",
       "1596           6.30             0.510         0.13            2.30      0.076   \n",
       "1597          15.79             0.645         0.73            2.00      0.075   \n",
       "1598           6.00             0.320         0.47            3.60      0.067   \n",
       "\n",
       "      free sulfur dioxide  total sulfur dioxide  density    pH  sulphates  \\\n",
       "0                   11.00                 34.00  0.99780  3.27       0.56   \n",
       "1                   25.00                 67.00  0.99680  3.20       0.68   \n",
       "2                   38.42                 21.75  0.99700  3.26       0.65   \n",
       "3                   17.00                 71.22  1.00000  3.16       0.82   \n",
       "4                   11.00                 26.60  0.99000  3.88       0.56   \n",
       "5                   13.00                117.17  0.99780  3.51       0.56   \n",
       "6                   15.00                 59.00  0.99640  3.30       0.46   \n",
       "7                   15.00                 21.00  1.00000  3.39       0.47   \n",
       "8                    9.00                 18.00  1.00000  3.36       0.57   \n",
       "9                   17.00                 98.17  1.00000  3.35       0.80   \n",
       "10                  59.57                192.60  0.99590  3.28       0.54   \n",
       "11                  25.10                102.00  0.99780  3.35       1.70   \n",
       "12                  16.00                230.81  0.99430  3.58       0.52   \n",
       "13                   9.00                234.36  0.99000  3.91       1.56   \n",
       "14                  52.00                281.64  1.00000  3.16       2.00   \n",
       "15                   8.23                229.62  0.99860  3.17       0.93   \n",
       "16                  35.00                263.61  0.99690  3.70       1.98   \n",
       "17                  16.00                 56.00  0.99680  3.11       1.28   \n",
       "18                   6.00                 29.00  1.00000  3.38       0.50   \n",
       "19                  69.06                 56.00  0.99690  3.04       1.08   \n",
       "20                  29.00                241.72  0.99680  3.39       0.53   \n",
       "21                  35.34                 71.00  0.99820  3.52       0.65   \n",
       "22                  10.00                 37.00  0.99660  3.17       0.91   \n",
       "23                   9.00                230.12  0.99000  3.17       0.53   \n",
       "24                  70.78                 40.00  0.99680  3.25       0.63   \n",
       "25                  11.00                 23.00  0.99550  3.34       0.56   \n",
       "26                  47.28                 11.00  0.99620  3.28       0.59   \n",
       "27                   4.76                 37.00  0.99660  3.17       0.91   \n",
       "28                  34.88                 35.00  0.99720  3.94       0.55   \n",
       "29                   8.00                254.91  0.99640  3.38       0.59   \n",
       "...                   ...                   ...      ...   ...        ...   \n",
       "1569                15.00                285.77  0.99396  3.48       0.57   \n",
       "1570                19.00                231.26  0.99000  2.97       0.93   \n",
       "1571                15.00                 25.00  1.00000  3.87       0.65   \n",
       "1572                35.00                104.00  1.00000  3.33       0.51   \n",
       "1573                36.24                175.85  0.99000  3.01       0.67   \n",
       "1574                23.00                 30.93  0.99677  3.39       0.48   \n",
       "1575                12.00                 20.00  0.99474  3.26       0.64   \n",
       "1576                16.00                 29.00  0.99000  3.12       0.78   \n",
       "1577                13.00                 27.00  0.99622  3.54       0.60   \n",
       "1578                13.00                 20.00  0.99540  3.42       0.67   \n",
       "1579                24.00                 46.66  0.99402  3.54       0.60   \n",
       "1580                62.84                 26.00  0.99470  3.36       0.60   \n",
       "1581                41.39                 32.00  0.99000  3.10       0.60   \n",
       "1582                13.00                 27.00  1.00000  3.21       0.50   \n",
       "1583                32.00                 98.00  1.00000  3.33       0.62   \n",
       "1584                24.00                163.19  0.99484  3.29       0.84   \n",
       "1585                22.00                 48.00  0.99000  3.30       0.84   \n",
       "1586                34.00                 60.00  0.99492  3.34       0.85   \n",
       "1587                18.00                 28.00  0.99483  3.55       0.66   \n",
       "1588                34.00                102.00  0.99414  3.27       0.78   \n",
       "1589                54.70                 79.00  0.99000  3.29       0.54   \n",
       "1590                26.00                 35.00  1.00000  3.32       0.82   \n",
       "1591                16.00                 26.00  1.00000  3.67       0.73   \n",
       "1592                61.97                 40.00  1.00000  3.42       0.75   \n",
       "1593                28.00                 38.00  0.99651  3.84       1.63   \n",
       "1594                32.00                 41.72  0.99490  3.45       1.72   \n",
       "1595                39.00                 51.00  0.99512  3.52       0.76   \n",
       "1596                29.00                 40.00  0.99574  3.42       1.38   \n",
       "1597                32.00                 44.00  0.99547  3.57       0.71   \n",
       "1598                23.03                 42.00  1.00000  3.39       0.66   \n",
       "\n",
       "      alcohol  quality  \n",
       "0        9.40        5  \n",
       "1        9.80        5  \n",
       "2        9.80        5  \n",
       "3        9.80        6  \n",
       "4        9.40        5  \n",
       "5        9.40        5  \n",
       "6        9.40        5  \n",
       "7       10.00        7  \n",
       "8        9.50        7  \n",
       "9       10.50        5  \n",
       "10       9.20        5  \n",
       "11      10.50        5  \n",
       "12      11.45        5  \n",
       "13       9.10        5  \n",
       "14       9.20        5  \n",
       "15       9.20        5  \n",
       "16      11.35        7  \n",
       "17      14.20        5  \n",
       "18       9.00        4  \n",
       "19       9.20        6  \n",
       "20       9.40        6  \n",
       "21       9.70        5  \n",
       "22       9.50        5  \n",
       "23       9.40        5  \n",
       "24       9.70        6  \n",
       "25       9.30        5  \n",
       "26       9.84        5  \n",
       "27       9.50        5  \n",
       "28       9.40        5  \n",
       "29       9.80        6  \n",
       "...       ...      ...  \n",
       "1569    11.50        6  \n",
       "1570    10.46        6  \n",
       "1571    11.10        6  \n",
       "1572     9.50        5  \n",
       "1573    12.50        6  \n",
       "1574    10.50        6  \n",
       "1575    11.80        6  \n",
       "1576    10.80        6  \n",
       "1577    11.90        6  \n",
       "1578    11.30        6  \n",
       "1579    11.30        5  \n",
       "1580    11.90        6  \n",
       "1581    11.30        5  \n",
       "1582    11.90        5  \n",
       "1583    12.74        5  \n",
       "1584    11.60        7  \n",
       "1585    11.50        6  \n",
       "1586    11.40        6  \n",
       "1587    10.90        6  \n",
       "1588    12.80        6  \n",
       "1589     9.20        5  \n",
       "1590    11.60        6  \n",
       "1591    11.60        6  \n",
       "1592    13.99        6  \n",
       "1593    13.53        6  \n",
       "1594    10.51        5  \n",
       "1595    11.20        6  \n",
       "1596    11.00        6  \n",
       "1597    10.20        5  \n",
       "1598    11.00        6  \n",
       "\n",
       "[1599 rows x 12 columns]>"
      ]
     },
     "execution_count": 4,
     "metadata": {},
     "output_type": "execute_result"
    }
   ],
   "source": [
    "#Checking correaltion\n",
    "data_noise.corr"
   ]
  },
  {
   "cell_type": "code",
   "execution_count": 5,
   "metadata": {},
   "outputs": [
    {
     "data": {
      "text/plain": [
       "Index(['fixed acidity', 'volatile acidity', 'citric acid', 'residual sugar',\n",
       "       'chlorides', 'free sulfur dioxide', 'total sulfur dioxide', 'density',\n",
       "       'pH', 'sulphates', 'alcohol', 'quality'],\n",
       "      dtype='object')"
      ]
     },
     "execution_count": 5,
     "metadata": {},
     "output_type": "execute_result"
    }
   ],
   "source": [
    "data_noise.columns"
   ]
  },
  {
   "cell_type": "code",
   "execution_count": 6,
   "metadata": {},
   "outputs": [
    {
     "name": "stdout",
     "output_type": "stream",
     "text": [
      "<class 'pandas.core.frame.DataFrame'>\n",
      "RangeIndex: 1599 entries, 0 to 1598\n",
      "Data columns (total 12 columns):\n",
      "fixed acidity           1599 non-null float64\n",
      "volatile acidity        1599 non-null float64\n",
      "citric acid             1599 non-null float64\n",
      "residual sugar          1599 non-null float64\n",
      "chlorides               1599 non-null float64\n",
      "free sulfur dioxide     1599 non-null float64\n",
      "total sulfur dioxide    1599 non-null float64\n",
      "density                 1599 non-null float64\n",
      "pH                      1599 non-null float64\n",
      "sulphates               1599 non-null float64\n",
      "alcohol                 1599 non-null float64\n",
      "quality                 1599 non-null int64\n",
      "dtypes: float64(11), int64(1)\n",
      "memory usage: 150.0 KB\n"
     ]
    }
   ],
   "source": [
    "data_noise.info()"
   ]
  },
  {
   "cell_type": "code",
   "execution_count": 7,
   "metadata": {},
   "outputs": [
    {
     "data": {
      "text/plain": [
       "array([5, 6, 7, 4, 8, 3], dtype=int64)"
      ]
     },
     "execution_count": 7,
     "metadata": {},
     "output_type": "execute_result"
    }
   ],
   "source": [
    "data_noise['quality'].unique()"
   ]
  },
  {
   "cell_type": "code",
   "execution_count": 8,
   "metadata": {},
   "outputs": [
    {
     "data": {
      "image/png": "[encoded data removed]",
      "text/plain": [
       "<Figure size 864x648 with 2 Axes>"
      ]
     },
     "metadata": {
      "needs_background": "light"
     },
     "output_type": "display_data"
    }
   ],
   "source": [
    "import seaborn as sns\n",
    "import matplotlib.pyplot as pplt\n",
    "#correlation matrix\n",
    "corrmat = data_noise.corr()\n",
    "f, ax = pplt.subplots(figsize=(12, 9))\n",
    "sns.heatmap(corrmat, vmax=.8, square=True);"
   ]
  },
  {
   "cell_type": "code",
   "execution_count": 9,
   "metadata": {},
   "outputs": [
    {
     "data": {
      "text/plain": [
       "Counter({5: 681, 6: 638, 7: 199, 4: 53, 8: 18, 3: 10})"
      ]
     },
     "execution_count": 9,
     "metadata": {},
     "output_type": "execute_result"
    }
   ],
   "source": [
    "#count of each target variable\n",
    "from collections import Counter\n",
    "Counter(data_noise['quality'])"
   ]
  },
  {
   "cell_type": "code",
   "execution_count": 10,
   "metadata": {},
   "outputs": [
    {
     "data": {
      "text/plain": [
       "<matplotlib.axes._subplots.AxesSubplot at 0x180259c0cc0>"
      ]
     },
     "execution_count": 10,
     "metadata": {},
     "output_type": "execute_result"
    },
    {
     "data": {
      "image/png": "[encoded data removed]",
      "text/plain": [
       "<Figure size 432x288 with 1 Axes>"
      ]
     },
     "metadata": {
      "needs_background": "light"
     },
     "output_type": "display_data"
    }
   ],
   "source": [
    "#count of the target variable\n",
    "sns.countplot(x='quality', data=data_noise)"
   ]
  },
  {
   "cell_type": "code",
   "execution_count": 11,
   "metadata": {},
   "outputs": [],
   "source": [
    "#next we shall create a new column called Review. This column will contain the values of 1,2, and 3. \n",
    "#1 - Bad\n",
    "#2 - Average\n",
    "#3 - Excellent\n",
    "#This will be split in the following way. \n",
    "#1,2,3 --> Bad\n",
    "#4,5,6,7 --> Average\n",
    "#8,9,10 --> Excellent\n",
    "#Create an empty list called Reviews\n",
    "reviews = []\n",
    "for i in data['quality']:\n",
    "    if i >= 1 and i <= 3:\n",
    "        reviews.append('1')\n",
    "    elif i >= 4 and i <= 7:\n",
    "        reviews.append('2')\n",
    "    elif i >= 8 and i <= 10:\n",
    "        reviews.append('3')\n",
    "data['Reviews'] = reviews"
   ]
  },
  {
   "cell_type": "code",
   "execution_count": 12,
   "metadata": {},
   "outputs": [],
   "source": [
    "#next we shall create a new column called Review. This column will contain the values of 1,2, and 3. \n",
    "#1 - Bad\n",
    "#2 - Average\n",
    "#3 - Excellent\n",
    "#This will be split in the following way. \n",
    "#1,2,3 --> Bad\n",
    "#4,5,6,7 --> Average\n",
    "#8,9,10 --> Excellent\n",
    "#Create an empty list called Reviews\n",
    "reviews = []\n",
    "for i in data_noise['quality']:\n",
    "    if i >= 1 and i <= 3:\n",
    "        reviews.append('1')\n",
    "    elif i >= 4 and i <= 7:\n",
    "        reviews.append('2')\n",
    "    elif i >= 8 and i <= 10:\n",
    "        reviews.append('3')\n",
    "data_noise['Reviews'] = reviews"
   ]
  },
  {
   "cell_type": "code",
   "execution_count": 13,
   "metadata": {},
   "outputs": [
    {
     "data": {
      "text/plain": [
       "Index(['fixed acidity', 'volatile acidity', 'citric acid', 'residual sugar',\n",
       "       'chlorides', 'free sulfur dioxide', 'total sulfur dioxide', 'density',\n",
       "       'pH', 'sulphates', 'alcohol', 'quality', 'Reviews'],\n",
       "      dtype='object')"
      ]
     },
     "execution_count": 13,
     "metadata": {},
     "output_type": "execute_result"
    }
   ],
   "source": [
    "#view final data\n",
    "data_noise.columns"
   ]
  },
  {
   "cell_type": "code",
   "execution_count": 14,
   "metadata": {},
   "outputs": [
    {
     "data": {
      "text/plain": [
       "array(['2', '3', '1'], dtype=object)"
      ]
     },
     "execution_count": 14,
     "metadata": {},
     "output_type": "execute_result"
    }
   ],
   "source": [
    "data_noise['Reviews'].unique()"
   ]
  },
  {
   "cell_type": "code",
   "execution_count": 15,
   "metadata": {},
   "outputs": [
    {
     "data": {
      "text/plain": [
       "Counter({'2': 1571, '3': 18, '1': 10})"
      ]
     },
     "execution_count": 15,
     "metadata": {},
     "output_type": "execute_result"
    }
   ],
   "source": [
    "Counter(data_noise['Reviews'])"
   ]
  },
  {
   "cell_type": "code",
   "execution_count": 16,
   "metadata": {},
   "outputs": [],
   "source": [
    "x = data.iloc[:,:11]\n",
    "y = data['Reviews']"
   ]
  },
  {
   "cell_type": "code",
   "execution_count": 17,
   "metadata": {},
   "outputs": [],
   "source": [
    "x_noise = data_noise.iloc[:,:11]\n",
    "y_noise = data_noise['Reviews']"
   ]
  },
  {
   "cell_type": "code",
   "execution_count": 18,
   "metadata": {},
   "outputs": [
    {
     "data": {
      "text/html": [
       "<div>\n",
       "<style scoped>\n",
       "    .dataframe tbody tr th:only-of-type {\n",
       "        vertical-align: middle;\n",
       "    }\n",
       "\n",
       "    .dataframe tbody tr th {\n",
       "        vertical-align: top;\n",
       "    }\n",
       "\n",
       "    .dataframe thead th {\n",
       "        text-align: right;\n",
       "    }\n",
       "</style>\n",
       "<table border=\"1\" class=\"dataframe\">\n",
       "  <thead>\n",
       "    <tr style=\"text-align: right;\">\n",
       "      <th></th>\n",
       "      <th>fixed acidity</th>\n",
       "      <th>volatile acidity</th>\n",
       "      <th>citric acid</th>\n",
       "      <th>residual sugar</th>\n",
       "      <th>chlorides</th>\n",
       "      <th>free sulfur dioxide</th>\n",
       "      <th>total sulfur dioxide</th>\n",
       "      <th>density</th>\n",
       "      <th>pH</th>\n",
       "      <th>sulphates</th>\n",
       "      <th>alcohol</th>\n",
       "    </tr>\n",
       "  </thead>\n",
       "  <tbody>\n",
       "    <tr>\n",
       "      <th>0</th>\n",
       "      <td>7.40</td>\n",
       "      <td>0.70</td>\n",
       "      <td>0.00</td>\n",
       "      <td>1.90</td>\n",
       "      <td>0.076</td>\n",
       "      <td>11.00</td>\n",
       "      <td>34.00</td>\n",
       "      <td>0.9978</td>\n",
       "      <td>3.27</td>\n",
       "      <td>0.56</td>\n",
       "      <td>9.4</td>\n",
       "    </tr>\n",
       "    <tr>\n",
       "      <th>1</th>\n",
       "      <td>7.80</td>\n",
       "      <td>0.88</td>\n",
       "      <td>0.00</td>\n",
       "      <td>2.60</td>\n",
       "      <td>0.098</td>\n",
       "      <td>25.00</td>\n",
       "      <td>67.00</td>\n",
       "      <td>0.9968</td>\n",
       "      <td>3.20</td>\n",
       "      <td>0.68</td>\n",
       "      <td>9.8</td>\n",
       "    </tr>\n",
       "    <tr>\n",
       "      <th>2</th>\n",
       "      <td>7.80</td>\n",
       "      <td>0.76</td>\n",
       "      <td>0.04</td>\n",
       "      <td>2.30</td>\n",
       "      <td>0.092</td>\n",
       "      <td>38.42</td>\n",
       "      <td>21.75</td>\n",
       "      <td>0.9970</td>\n",
       "      <td>3.26</td>\n",
       "      <td>0.65</td>\n",
       "      <td>9.8</td>\n",
       "    </tr>\n",
       "    <tr>\n",
       "      <th>3</th>\n",
       "      <td>11.20</td>\n",
       "      <td>0.28</td>\n",
       "      <td>0.56</td>\n",
       "      <td>1.90</td>\n",
       "      <td>0.370</td>\n",
       "      <td>17.00</td>\n",
       "      <td>71.22</td>\n",
       "      <td>1.0000</td>\n",
       "      <td>3.16</td>\n",
       "      <td>0.82</td>\n",
       "      <td>9.8</td>\n",
       "    </tr>\n",
       "    <tr>\n",
       "      <th>4</th>\n",
       "      <td>7.40</td>\n",
       "      <td>0.70</td>\n",
       "      <td>0.86</td>\n",
       "      <td>6.97</td>\n",
       "      <td>0.076</td>\n",
       "      <td>11.00</td>\n",
       "      <td>26.60</td>\n",
       "      <td>0.9900</td>\n",
       "      <td>3.88</td>\n",
       "      <td>0.56</td>\n",
       "      <td>9.4</td>\n",
       "    </tr>\n",
       "    <tr>\n",
       "      <th>5</th>\n",
       "      <td>15.55</td>\n",
       "      <td>0.66</td>\n",
       "      <td>0.00</td>\n",
       "      <td>1.80</td>\n",
       "      <td>0.075</td>\n",
       "      <td>13.00</td>\n",
       "      <td>117.17</td>\n",
       "      <td>0.9978</td>\n",
       "      <td>3.51</td>\n",
       "      <td>0.56</td>\n",
       "      <td>9.4</td>\n",
       "    </tr>\n",
       "    <tr>\n",
       "      <th>6</th>\n",
       "      <td>5.96</td>\n",
       "      <td>0.60</td>\n",
       "      <td>0.08</td>\n",
       "      <td>1.60</td>\n",
       "      <td>0.069</td>\n",
       "      <td>15.00</td>\n",
       "      <td>59.00</td>\n",
       "      <td>0.9964</td>\n",
       "      <td>3.30</td>\n",
       "      <td>0.46</td>\n",
       "      <td>9.4</td>\n",
       "    </tr>\n",
       "    <tr>\n",
       "      <th>7</th>\n",
       "      <td>7.30</td>\n",
       "      <td>0.89</td>\n",
       "      <td>0.00</td>\n",
       "      <td>1.20</td>\n",
       "      <td>0.065</td>\n",
       "      <td>15.00</td>\n",
       "      <td>21.00</td>\n",
       "      <td>1.0000</td>\n",
       "      <td>3.39</td>\n",
       "      <td>0.47</td>\n",
       "      <td>10.0</td>\n",
       "    </tr>\n",
       "    <tr>\n",
       "      <th>8</th>\n",
       "      <td>7.80</td>\n",
       "      <td>0.58</td>\n",
       "      <td>0.02</td>\n",
       "      <td>2.00</td>\n",
       "      <td>0.073</td>\n",
       "      <td>9.00</td>\n",
       "      <td>18.00</td>\n",
       "      <td>1.0000</td>\n",
       "      <td>3.36</td>\n",
       "      <td>0.57</td>\n",
       "      <td>9.5</td>\n",
       "    </tr>\n",
       "    <tr>\n",
       "      <th>9</th>\n",
       "      <td>7.50</td>\n",
       "      <td>0.50</td>\n",
       "      <td>0.36</td>\n",
       "      <td>6.10</td>\n",
       "      <td>0.071</td>\n",
       "      <td>17.00</td>\n",
       "      <td>98.17</td>\n",
       "      <td>1.0000</td>\n",
       "      <td>3.35</td>\n",
       "      <td>0.80</td>\n",
       "      <td>10.5</td>\n",
       "    </tr>\n",
       "  </tbody>\n",
       "</table>\n",
       "</div>"
      ],
      "text/plain": [
       "   fixed acidity  volatile acidity  citric acid  residual sugar  chlorides  \\\n",
       "0           7.40              0.70         0.00            1.90      0.076   \n",
       "1           7.80              0.88         0.00            2.60      0.098   \n",
       "2           7.80              0.76         0.04            2.30      0.092   \n",
       "3          11.20              0.28         0.56            1.90      0.370   \n",
       "4           7.40              0.70         0.86            6.97      0.076   \n",
       "5          15.55              0.66         0.00            1.80      0.075   \n",
       "6           5.96              0.60         0.08            1.60      0.069   \n",
       "7           7.30              0.89         0.00            1.20      0.065   \n",
       "8           7.80              0.58         0.02            2.00      0.073   \n",
       "9           7.50              0.50         0.36            6.10      0.071   \n",
       "\n",
       "   free sulfur dioxide  total sulfur dioxide  density    pH  sulphates  \\\n",
       "0                11.00                 34.00   0.9978  3.27       0.56   \n",
       "1                25.00                 67.00   0.9968  3.20       0.68   \n",
       "2                38.42                 21.75   0.9970  3.26       0.65   \n",
       "3                17.00                 71.22   1.0000  3.16       0.82   \n",
       "4                11.00                 26.60   0.9900  3.88       0.56   \n",
       "5                13.00                117.17   0.9978  3.51       0.56   \n",
       "6                15.00                 59.00   0.9964  3.30       0.46   \n",
       "7                15.00                 21.00   1.0000  3.39       0.47   \n",
       "8                 9.00                 18.00   1.0000  3.36       0.57   \n",
       "9                17.00                 98.17   1.0000  3.35       0.80   \n",
       "\n",
       "   alcohol  \n",
       "0      9.4  \n",
       "1      9.8  \n",
       "2      9.8  \n",
       "3      9.8  \n",
       "4      9.4  \n",
       "5      9.4  \n",
       "6      9.4  \n",
       "7     10.0  \n",
       "8      9.5  \n",
       "9     10.5  "
      ]
     },
     "execution_count": 18,
     "metadata": {},
     "output_type": "execute_result"
    }
   ],
   "source": [
    "x_noise.head(10)"
   ]
  },
  {
   "cell_type": "code",
   "execution_count": 19,
   "metadata": {},
   "outputs": [
    {
     "data": {
      "text/plain": [
       "0    2\n",
       "1    2\n",
       "2    2\n",
       "3    2\n",
       "4    2\n",
       "5    2\n",
       "6    2\n",
       "7    2\n",
       "8    2\n",
       "9    2\n",
       "Name: Reviews, dtype: object"
      ]
     },
     "execution_count": 19,
     "metadata": {},
     "output_type": "execute_result"
    }
   ],
   "source": [
    "y_noise.head(10)"
   ]
  },
  {
   "cell_type": "code",
   "execution_count": 20,
   "metadata": {},
   "outputs": [],
   "source": [
    "from sklearn.preprocessing import StandardScaler\n",
    "sc = StandardScaler()\n",
    "x_noise = sc.fit_transform(x_noise)"
   ]
  },
  {
   "cell_type": "code",
   "execution_count": 21,
   "metadata": {},
   "outputs": [
    {
     "name": "stdout",
     "output_type": "stream",
     "text": [
      "[[-0.61173955  0.28217204 -1.34307266 ..., -0.28961007 -0.63315952\n",
      "  -0.90720053]\n",
      " [-0.44994531  0.87599909 -1.34307266 ..., -0.58986993 -0.3162081\n",
      "  -0.62493742]\n",
      " [-0.44994531  0.48011439 -1.1798522  ..., -0.33250433 -0.39544596\n",
      "  -0.62493742]\n",
      " ..., \n",
      " [-1.05667369 -0.3446454  -0.81260617 ...,  0.35380393  1.53267518\n",
      "   0.22185192]\n",
      " [ 2.78189452  0.10072489  1.63570071 ...,  0.99721792 -0.23697025\n",
      "  -0.3426743 ]\n",
      " [-1.17801937 -0.97146284  0.57476773 ...,  0.22512113 -0.36903334\n",
      "   0.22185192]]\n"
     ]
    }
   ],
   "source": [
    "#view the scaled features\n",
    "print(x_noise)"
   ]
  },
  {
   "cell_type": "code",
   "execution_count": 22,
   "metadata": {},
   "outputs": [],
   "source": [
    "from sklearn.preprocessing import StandardScaler\n",
    "sc = StandardScaler()\n",
    "x = sc.fit_transform(x)"
   ]
  },
  {
   "cell_type": "code",
   "execution_count": 23,
   "metadata": {},
   "outputs": [
    {
     "name": "stdout",
     "output_type": "stream",
     "text": [
      "[[-0.52835961  0.96187667 -1.39147228 ...,  1.28864292 -0.57920652\n",
      "  -0.96024611]\n",
      " [-0.29854743  1.96744245 -1.39147228 ..., -0.7199333   0.1289504\n",
      "  -0.58477711]\n",
      " [-0.29854743  1.29706527 -1.18607043 ..., -0.33117661 -0.04808883\n",
      "  -0.58477711]\n",
      " ..., \n",
      " [-1.1603431  -0.09955388 -0.72391627 ...,  0.70550789  0.54204194\n",
      "   0.54162988]\n",
      " [-1.39015528  0.65462046 -0.77526673 ...,  1.6773996   0.30598963\n",
      "  -0.20930812]\n",
      " [-1.33270223 -1.21684919  1.02199944 ...,  0.51112954  0.01092425\n",
      "   0.54162988]]\n"
     ]
    }
   ],
   "source": [
    "#view the scaled features\n",
    "print(x)"
   ]
  },
  {
   "cell_type": "code",
   "execution_count": 24,
   "metadata": {},
   "outputs": [],
   "source": [
    "from sklearn.decomposition import PCA\n",
    "pca = PCA()\n",
    "x_pca = pca.fit_transform(x)"
   ]
  },
  {
   "cell_type": "code",
   "execution_count": 25,
   "metadata": {},
   "outputs": [
    {
     "data": {
      "image/png": "[encoded data removed]",
      "text/plain": [
       "<Figure size 720x720 with 1 Axes>"
      ]
     },
     "metadata": {
      "needs_background": "light"
     },
     "output_type": "display_data"
    }
   ],
   "source": [
    "#plot the graph to find the principal components\n",
    "plt.figure(figsize=(10,10))\n",
    "plt.plot(np.cumsum(pca.explained_variance_ratio_), 'ro-')\n",
    "plt.grid()"
   ]
  },
  {
   "cell_type": "code",
   "execution_count": 26,
   "metadata": {},
   "outputs": [],
   "source": [
    "from sklearn.decomposition import PCA\n",
    "pca_noise = PCA()\n",
    "x_pca_noise = pca_noise.fit_transform(x_noise)"
   ]
  },
  {
   "cell_type": "code",
   "execution_count": 27,
   "metadata": {},
   "outputs": [
    {
     "data": {
      "image/png": "[encoded data removed]",
      "text/plain": [
       "<Figure size 720x720 with 1 Axes>"
      ]
     },
     "metadata": {
      "needs_background": "light"
     },
     "output_type": "display_data"
    }
   ],
   "source": [
    "#plot the graph to find the principal components\n",
    "plt.figure(figsize=(10,10))\n",
    "plt.plot(np.cumsum(pca_noise.explained_variance_ratio_), 'ro-')\n",
    "plt.grid()"
   ]
  },
  {
   "cell_type": "code",
   "execution_count": 28,
   "metadata": {},
   "outputs": [],
   "source": [
    "#AS per the graph, we can see that 8 principal components attribute for 90% of variation in the data. \n",
    "#we shall pick the first 8 components for our prediction.\n",
    "pca_new = PCA(n_components=8)\n",
    "x_new = pca_new.fit_transform(x)"
   ]
  },
  {
   "cell_type": "code",
   "execution_count": 29,
   "metadata": {},
   "outputs": [
    {
     "name": "stdout",
     "output_type": "stream",
     "text": [
      "[[-1.61952988  0.45095009 -1.77445415 ..., -0.91392069 -0.16104319\n",
      "  -0.28225828]\n",
      " [-0.79916993  1.85655306 -0.91169017 ...,  0.92971392 -1.00982858\n",
      "   0.76258697]\n",
      " [-0.74847909  0.88203886 -1.17139423 ...,  0.40147313 -0.53955348\n",
      "   0.59794606]\n",
      " ..., \n",
      " [-1.45612897  0.31174559  1.12423941 ..., -0.50640956 -0.23108221\n",
      "   0.07938219]\n",
      " [-2.27051793  0.97979111  0.62796456 ..., -0.86040762 -0.32148695\n",
      "  -0.46887589]\n",
      " [-0.42697475 -0.53669021  1.6289552  ..., -0.49615364  1.18913227\n",
      "   0.04217568]]\n"
     ]
    }
   ],
   "source": [
    "print(x_new)"
   ]
  },
  {
   "cell_type": "code",
   "execution_count": 30,
   "metadata": {},
   "outputs": [],
   "source": [
    "#AS per the graph, we can see that 8 principal components attribute for 90% of variation in the data. \n",
    "#we shall pick the first 8 components for our prediction.\n",
    "pca_new_noise = PCA(n_components=8)\n",
    "x_new_noise = pca_new_noise.fit_transform(x_noise)"
   ]
  },
  {
   "cell_type": "code",
   "execution_count": 31,
   "metadata": {},
   "outputs": [
    {
     "name": "stdout",
     "output_type": "stream",
     "text": [
      "[[-0.9100487  -1.05062184 -1.11719269 ...,  0.10119421 -0.32125438\n",
      "  -0.58942268]\n",
      " [-0.9671752  -1.18633981 -0.25655081 ...,  0.20528792  0.4135373\n",
      "  -0.48903289]\n",
      " [-0.92435557 -1.01422986 -0.02591524 ..., -0.47559881 -0.25445087\n",
      "  -0.62293102]\n",
      " ..., \n",
      " [-1.08133319  0.57501081  0.04480394 ...,  0.90573185 -0.62790338\n",
      "  -0.63973998]\n",
      " [ 1.65328258  0.51650292  0.15339697 ..., -0.80390301 -0.42460137\n",
      "   1.33487319]\n",
      " [-0.05200581  0.2882147  -0.19880576 ..., -0.33556171 -1.49274078\n",
      "  -0.05163434]]\n"
     ]
    }
   ],
   "source": [
    "print(x_new_noise)"
   ]
  },
  {
   "cell_type": "code",
   "execution_count": 32,
   "metadata": {},
   "outputs": [],
   "source": [
    "from sklearn.model_selection import train_test_split\n",
    "x_train, x_test, y_train, y_test = train_test_split(x_new, y, test_size = 0.25)"
   ]
  },
  {
   "cell_type": "code",
   "execution_count": 33,
   "metadata": {},
   "outputs": [],
   "source": [
    "\n",
    "x_train_noise, x_test_noise, y_train_noise, y_test_noise = train_test_split(x_new_noise, y_noise, test_size = 0.25)"
   ]
  },
  {
   "cell_type": "code",
   "execution_count": 34,
   "metadata": {},
   "outputs": [],
   "source": [
    "from sklearn.ensemble import RandomForestClassifier, AdaBoostClassifier, GradientBoostingClassifier, ExtraTreesClassifier, VotingClassifier\n",
    "from sklearn.discriminant_analysis import LinearDiscriminantAnalysis\n",
    "from sklearn.linear_model import LogisticRegression\n",
    "from sklearn.neighbors import KNeighborsClassifier\n",
    "from sklearn.tree import DecisionTreeClassifier\n",
    "from sklearn.neural_network import MLPClassifier\n",
    "from sklearn.naive_bayes import GaussianNB\n",
    "from sklearn.ensemble import RandomForestClassifier\n",
    "from sklearn.model_selection import GridSearchCV, cross_val_score, StratifiedKFold, learning_curve, train_test_split, KFold\n",
    "from sklearn.metrics import classification_report\n",
    "from sklearn.metrics import confusion_matrix\n",
    "from sklearn.metrics import accuracy_score\n",
    "from sklearn.svm import SVC\n",
    "\n",
    "# Params for Random Forest\n",
    "num_trees = 100\n",
    "max_features = 3\n",
    "\n",
    "#Spot Check 5 Algorithms (LR, LDA, KNN, CART, GNB, SVM)\n",
    "models = []\n",
    "models.append(('LR', LogisticRegression()))\n",
    "models.append(('LDA', LinearDiscriminantAnalysis()))\n",
    "models.append(('KNN', KNeighborsClassifier()))\n",
    "models.append(('CART', DecisionTreeClassifier()))\n",
    "models.append(('NB', GaussianNB()))\n",
    "models.append(('RF', RandomForestClassifier(n_estimators=num_trees, max_features=max_features)))\n",
    "models.append(('SVM', SVC()))\n",
    "# evalutate each model in turn\n",
    "results = []\n",
    "names = []\n",
    "#for name, model in models:\n",
    "    #kfold = KFold(n_splits=10, random_state=0)\n",
    "    #cv_results = cross_val_score(model, x_train, y_train, cv=kfold, scoring='accuracy')\n",
    "    #results.append(cv_results)\n",
    "    #names.append(name)\n",
    "    #msg = \"%s: %f (%f)\" % (name, cv_results.mean(), cv_results.std())\n",
    "    #print(msg)"
   ]
  },
  {
   "cell_type": "code",
   "execution_count": 35,
   "metadata": {},
   "outputs": [
    {
     "name": "stderr",
     "output_type": "stream",
     "text": [
      "C:\\Users\\souro\\Anaconda3\\lib\\site-packages\\sklearn\\model_selection\\_split.py:652: Warning: The least populated class in y has only 9 members, which is too few. The minimum number of members in any class cannot be less than n_splits=10.\n",
      "  % (min_groups, self.n_splits)), Warning)\n",
      "C:\\Users\\souro\\Anaconda3\\lib\\site-packages\\sklearn\\linear_model\\logistic.py:433: FutureWarning: Default solver will be changed to 'lbfgs' in 0.22. Specify a solver to silence this warning.\n",
      "  FutureWarning)\n",
      "C:\\Users\\souro\\Anaconda3\\lib\\site-packages\\sklearn\\linear_model\\logistic.py:460: FutureWarning: Default multi_class will be changed to 'auto' in 0.22. Specify the multi_class option to silence this warning.\n",
      "  \"this warning.\", FutureWarning)\n",
      "C:\\Users\\souro\\Anaconda3\\lib\\site-packages\\sklearn\\linear_model\\logistic.py:433: FutureWarning: Default solver will be changed to 'lbfgs' in 0.22. Specify a solver to silence this warning.\n",
      "  FutureWarning)\n",
      "C:\\Users\\souro\\Anaconda3\\lib\\site-packages\\sklearn\\linear_model\\logistic.py:460: FutureWarning: Default multi_class will be changed to 'auto' in 0.22. Specify the multi_class option to silence this warning.\n",
      "  \"this warning.\", FutureWarning)\n",
      "C:\\Users\\souro\\Anaconda3\\lib\\site-packages\\sklearn\\linear_model\\logistic.py:433: FutureWarning: Default solver will be changed to 'lbfgs' in 0.22. Specify a solver to silence this warning.\n",
      "  FutureWarning)\n",
      "C:\\Users\\souro\\Anaconda3\\lib\\site-packages\\sklearn\\linear_model\\logistic.py:460: FutureWarning: Default multi_class will be changed to 'auto' in 0.22. Specify the multi_class option to silence this warning.\n",
      "  \"this warning.\", FutureWarning)\n",
      "C:\\Users\\souro\\Anaconda3\\lib\\site-packages\\sklearn\\linear_model\\logistic.py:433: FutureWarning: Default solver will be changed to 'lbfgs' in 0.22. Specify a solver to silence this warning.\n",
      "  FutureWarning)\n",
      "C:\\Users\\souro\\Anaconda3\\lib\\site-packages\\sklearn\\linear_model\\logistic.py:460: FutureWarning: Default multi_class will be changed to 'auto' in 0.22. Specify the multi_class option to silence this warning.\n",
      "  \"this warning.\", FutureWarning)\n",
      "C:\\Users\\souro\\Anaconda3\\lib\\site-packages\\sklearn\\linear_model\\logistic.py:433: FutureWarning: Default solver will be changed to 'lbfgs' in 0.22. Specify a solver to silence this warning.\n",
      "  FutureWarning)\n",
      "C:\\Users\\souro\\Anaconda3\\lib\\site-packages\\sklearn\\linear_model\\logistic.py:460: FutureWarning: Default multi_class will be changed to 'auto' in 0.22. Specify the multi_class option to silence this warning.\n",
      "  \"this warning.\", FutureWarning)\n",
      "C:\\Users\\souro\\Anaconda3\\lib\\site-packages\\sklearn\\linear_model\\logistic.py:433: FutureWarning: Default solver will be changed to 'lbfgs' in 0.22. Specify a solver to silence this warning.\n",
      "  FutureWarning)\n",
      "C:\\Users\\souro\\Anaconda3\\lib\\site-packages\\sklearn\\linear_model\\logistic.py:460: FutureWarning: Default multi_class will be changed to 'auto' in 0.22. Specify the multi_class option to silence this warning.\n",
      "  \"this warning.\", FutureWarning)\n",
      "C:\\Users\\souro\\Anaconda3\\lib\\site-packages\\sklearn\\linear_model\\logistic.py:433: FutureWarning: Default solver will be changed to 'lbfgs' in 0.22. Specify a solver to silence this warning.\n",
      "  FutureWarning)\n",
      "C:\\Users\\souro\\Anaconda3\\lib\\site-packages\\sklearn\\linear_model\\logistic.py:460: FutureWarning: Default multi_class will be changed to 'auto' in 0.22. Specify the multi_class option to silence this warning.\n",
      "  \"this warning.\", FutureWarning)\n",
      "C:\\Users\\souro\\Anaconda3\\lib\\site-packages\\sklearn\\linear_model\\logistic.py:433: FutureWarning: Default solver will be changed to 'lbfgs' in 0.22. Specify a solver to silence this warning.\n",
      "  FutureWarning)\n",
      "C:\\Users\\souro\\Anaconda3\\lib\\site-packages\\sklearn\\linear_model\\logistic.py:460: FutureWarning: Default multi_class will be changed to 'auto' in 0.22. Specify the multi_class option to silence this warning.\n",
      "  \"this warning.\", FutureWarning)\n",
      "C:\\Users\\souro\\Anaconda3\\lib\\site-packages\\sklearn\\linear_model\\logistic.py:433: FutureWarning: Default solver will be changed to 'lbfgs' in 0.22. Specify a solver to silence this warning.\n",
      "  FutureWarning)\n",
      "C:\\Users\\souro\\Anaconda3\\lib\\site-packages\\sklearn\\linear_model\\logistic.py:460: FutureWarning: Default multi_class will be changed to 'auto' in 0.22. Specify the multi_class option to silence this warning.\n",
      "  \"this warning.\", FutureWarning)\n",
      "C:\\Users\\souro\\Anaconda3\\lib\\site-packages\\sklearn\\linear_model\\logistic.py:433: FutureWarning: Default solver will be changed to 'lbfgs' in 0.22. Specify a solver to silence this warning.\n",
      "  FutureWarning)\n",
      "C:\\Users\\souro\\Anaconda3\\lib\\site-packages\\sklearn\\linear_model\\logistic.py:460: FutureWarning: Default multi_class will be changed to 'auto' in 0.22. Specify the multi_class option to silence this warning.\n",
      "  \"this warning.\", FutureWarning)\n",
      "C:\\Users\\souro\\Anaconda3\\lib\\site-packages\\sklearn\\linear_model\\logistic.py:433: FutureWarning: Default solver will be changed to 'lbfgs' in 0.22. Specify a solver to silence this warning.\n",
      "  FutureWarning)\n",
      "C:\\Users\\souro\\Anaconda3\\lib\\site-packages\\sklearn\\linear_model\\logistic.py:460: FutureWarning: Default multi_class will be changed to 'auto' in 0.22. Specify the multi_class option to silence this warning.\n",
      "  \"this warning.\", FutureWarning)\n",
      "C:\\Users\\souro\\Anaconda3\\lib\\site-packages\\sklearn\\model_selection\\_split.py:652: Warning: The least populated class in y has only 9 members, which is too few. The minimum number of members in any class cannot be less than n_splits=10.\n",
      "  % (min_groups, self.n_splits)), Warning)\n",
      "C:\\Users\\souro\\Anaconda3\\lib\\site-packages\\sklearn\\model_selection\\_split.py:652: Warning: The least populated class in y has only 9 members, which is too few. The minimum number of members in any class cannot be less than n_splits=10.\n",
      "  % (min_groups, self.n_splits)), Warning)\n"
     ]
    },
    {
     "name": "stdout",
     "output_type": "stream",
     "text": [
      "LR: 0.984160 (0.002479) 0.975000\n",
      "LDA: 0.984160 (0.002479) 0.960000\n",
      "KNN: 0.984160 (0.002479) 0.977500\n",
      "CART: 0.969132 (0.009209) 0.930000\n"
     ]
    },
    {
     "name": "stderr",
     "output_type": "stream",
     "text": [
      "C:\\Users\\souro\\Anaconda3\\lib\\site-packages\\sklearn\\model_selection\\_split.py:652: Warning: The least populated class in y has only 9 members, which is too few. The minimum number of members in any class cannot be less than n_splits=10.\n",
      "  % (min_groups, self.n_splits)), Warning)\n",
      "C:\\Users\\souro\\Anaconda3\\lib\\site-packages\\sklearn\\model_selection\\_split.py:652: Warning: The least populated class in y has only 9 members, which is too few. The minimum number of members in any class cannot be less than n_splits=10.\n",
      "  % (min_groups, self.n_splits)), Warning)\n",
      "C:\\Users\\souro\\Anaconda3\\lib\\site-packages\\sklearn\\model_selection\\_split.py:652: Warning: The least populated class in y has only 9 members, which is too few. The minimum number of members in any class cannot be less than n_splits=10.\n",
      "  % (min_groups, self.n_splits)), Warning)\n"
     ]
    },
    {
     "name": "stdout",
     "output_type": "stream",
     "text": [
      "NB: 0.982493 (0.004473) 0.957500\n",
      "RF: 0.982493 (0.004473) 0.957500\n",
      "SVM: 0.984160 (0.002479) 0.977500\n"
     ]
    },
    {
     "name": "stderr",
     "output_type": "stream",
     "text": [
      "C:\\Users\\souro\\Anaconda3\\lib\\site-packages\\sklearn\\model_selection\\_split.py:652: Warning: The least populated class in y has only 9 members, which is too few. The minimum number of members in any class cannot be less than n_splits=10.\n",
      "  % (min_groups, self.n_splits)), Warning)\n",
      "C:\\Users\\souro\\Anaconda3\\lib\\site-packages\\sklearn\\svm\\base.py:196: FutureWarning: The default value of gamma will change from 'auto' to 'scale' in version 0.22 to account better for unscaled features. Set gamma explicitly to 'auto' or 'scale' to avoid this warning.\n",
      "  \"avoid this warning.\", FutureWarning)\n",
      "C:\\Users\\souro\\Anaconda3\\lib\\site-packages\\sklearn\\svm\\base.py:196: FutureWarning: The default value of gamma will change from 'auto' to 'scale' in version 0.22 to account better for unscaled features. Set gamma explicitly to 'auto' or 'scale' to avoid this warning.\n",
      "  \"avoid this warning.\", FutureWarning)\n",
      "C:\\Users\\souro\\Anaconda3\\lib\\site-packages\\sklearn\\svm\\base.py:196: FutureWarning: The default value of gamma will change from 'auto' to 'scale' in version 0.22 to account better for unscaled features. Set gamma explicitly to 'auto' or 'scale' to avoid this warning.\n",
      "  \"avoid this warning.\", FutureWarning)\n",
      "C:\\Users\\souro\\Anaconda3\\lib\\site-packages\\sklearn\\svm\\base.py:196: FutureWarning: The default value of gamma will change from 'auto' to 'scale' in version 0.22 to account better for unscaled features. Set gamma explicitly to 'auto' or 'scale' to avoid this warning.\n",
      "  \"avoid this warning.\", FutureWarning)\n",
      "C:\\Users\\souro\\Anaconda3\\lib\\site-packages\\sklearn\\svm\\base.py:196: FutureWarning: The default value of gamma will change from 'auto' to 'scale' in version 0.22 to account better for unscaled features. Set gamma explicitly to 'auto' or 'scale' to avoid this warning.\n",
      "  \"avoid this warning.\", FutureWarning)\n",
      "C:\\Users\\souro\\Anaconda3\\lib\\site-packages\\sklearn\\svm\\base.py:196: FutureWarning: The default value of gamma will change from 'auto' to 'scale' in version 0.22 to account better for unscaled features. Set gamma explicitly to 'auto' or 'scale' to avoid this warning.\n",
      "  \"avoid this warning.\", FutureWarning)\n",
      "C:\\Users\\souro\\Anaconda3\\lib\\site-packages\\sklearn\\svm\\base.py:196: FutureWarning: The default value of gamma will change from 'auto' to 'scale' in version 0.22 to account better for unscaled features. Set gamma explicitly to 'auto' or 'scale' to avoid this warning.\n",
      "  \"avoid this warning.\", FutureWarning)\n",
      "C:\\Users\\souro\\Anaconda3\\lib\\site-packages\\sklearn\\svm\\base.py:196: FutureWarning: The default value of gamma will change from 'auto' to 'scale' in version 0.22 to account better for unscaled features. Set gamma explicitly to 'auto' or 'scale' to avoid this warning.\n",
      "  \"avoid this warning.\", FutureWarning)\n",
      "C:\\Users\\souro\\Anaconda3\\lib\\site-packages\\sklearn\\svm\\base.py:196: FutureWarning: The default value of gamma will change from 'auto' to 'scale' in version 0.22 to account better for unscaled features. Set gamma explicitly to 'auto' or 'scale' to avoid this warning.\n",
      "  \"avoid this warning.\", FutureWarning)\n",
      "C:\\Users\\souro\\Anaconda3\\lib\\site-packages\\sklearn\\svm\\base.py:196: FutureWarning: The default value of gamma will change from 'auto' to 'scale' in version 0.22 to account better for unscaled features. Set gamma explicitly to 'auto' or 'scale' to avoid this warning.\n",
      "  \"avoid this warning.\", FutureWarning)\n",
      "C:\\Users\\souro\\Anaconda3\\lib\\site-packages\\sklearn\\svm\\base.py:196: FutureWarning: The default value of gamma will change from 'auto' to 'scale' in version 0.22 to account better for unscaled features. Set gamma explicitly to 'auto' or 'scale' to avoid this warning.\n",
      "  \"avoid this warning.\", FutureWarning)\n"
     ]
    }
   ],
   "source": [
    "# Evaluate each model in turn\n",
    "#import warnings\n",
    "#warnings.filterwarnings('ignore')\n",
    "from sklearn.model_selection import cross_val_score\n",
    "from sklearn.metrics import accuracy_score\n",
    "train_results = []\n",
    "test_results = []\n",
    "names = []\n",
    "for name, model in models:\n",
    "    cv_train_results = cross_val_score(model, x_train_noise, y_train_noise, \n",
    "                                       cv=10, scoring='accuracy')\n",
    "    train_results.append(cv_train_results)\n",
    "    clf = model.fit(x_train_noise, y_train_noise)\n",
    "    cv_test_results = accuracy_score(y_test_noise, clf.predict(x_test))\n",
    "    test_results.append(cv_test_results)\n",
    "    names.append(name)\n",
    "    result = \"%s: %f (%f) %f\" % (name, cv_train_results.mean(), cv_train_results.std(), \n",
    "                                cv_test_results)\n",
    "    print(result)"
   ]
  },
  {
   "cell_type": "code",
   "execution_count": null,
   "metadata": {},
   "outputs": [],
   "source": []
  }
 ],
 "metadata": {
  "kernelspec": {
   "display_name": "Python 3",
   "language": "python",
   "name": "python3"
  },
  "language_info": {
   "codemirror_mode": {
    "name": "ipython",
    "version": 3
   },
   "file_extension": ".py",
   "mimetype": "text/x-python",
   "name": "python",
   "nbconvert_exporter": "python",
   "pygments_lexer": "ipython3",
   "version": "3.7.0"
  }
 },
 "nbformat": 4,
 "nbformat_minor": 2
}
